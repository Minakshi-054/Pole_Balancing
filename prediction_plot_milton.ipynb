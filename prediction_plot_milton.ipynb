{
  "cells": [
    {
      "cell_type": "code",
      "execution_count": 1,
      "metadata": {},
      "outputs": [],
      "source": [
        "#!pip install numpy"
      ]
    },
    {
      "cell_type": "code",
      "execution_count": 5,
      "metadata": {},
      "outputs": [
        {
          "name": "stdout",
          "output_type": "stream",
          "text": [
            "Collecting tensorflow\n",
            "  Downloading tensorflow-2.12.0-cp38-cp38-manylinux_2_17_x86_64.manylinux2014_x86_64.whl (585.9 MB)\n",
            "\u001b[K     |████████████████████████████████| 585.9 MB 8.0 kB/s s eta 0:00:01\n",
            "\u001b[?25hCollecting termcolor>=1.1.0\n",
            "  Downloading termcolor-2.3.0-py3-none-any.whl (6.9 kB)\n",
            "Collecting protobuf!=4.21.0,!=4.21.1,!=4.21.2,!=4.21.3,!=4.21.4,!=4.21.5,<5.0.0dev,>=3.20.3\n",
            "  Downloading protobuf-4.23.1-cp37-abi3-manylinux2014_x86_64.whl (304 kB)\n",
            "\u001b[K     |████████████████████████████████| 304 kB 44.3 MB/s eta 0:00:01\n",
            "\u001b[?25hCollecting keras<2.13,>=2.12.0\n",
            "  Downloading keras-2.12.0-py2.py3-none-any.whl (1.7 MB)\n",
            "\u001b[K     |████████████████████████████████| 1.7 MB 45.2 MB/s eta 0:00:01\n",
            "\u001b[?25hCollecting opt-einsum>=2.3.2\n",
            "  Using cached opt_einsum-3.3.0-py3-none-any.whl (65 kB)\n",
            "Collecting jax>=0.3.15\n",
            "  Downloading jax-0.4.10.tar.gz (1.3 MB)\n",
            "\u001b[K     |████████████████████████████████| 1.3 MB 42.0 MB/s eta 0:00:01\n",
            "\u001b[?25h  Installing build dependencies ... \u001b[?25ldone\n",
            "\u001b[?25h  Getting requirements to build wheel ... \u001b[?25ldone\n",
            "\u001b[?25h    Preparing wheel metadata ... \u001b[?25ldone\n",
            "\u001b[?25hCollecting h5py>=2.9.0\n",
            "  Downloading h5py-3.8.0-cp38-cp38-manylinux_2_17_x86_64.manylinux2014_x86_64.whl (4.7 MB)\n",
            "\u001b[K     |████████████████████████████████| 4.7 MB 39.7 MB/s eta 0:00:01\n",
            "\u001b[?25hRequirement already satisfied: typing-extensions>=3.6.6 in /home/Students/stg60/miniconda3/envs/idstudy/lib/python3.8/site-packages (from tensorflow) (4.5.0)\n",
            "Collecting flatbuffers>=2.0\n",
            "  Downloading flatbuffers-23.5.9-py2.py3-none-any.whl (26 kB)\n",
            "Collecting tensorflow-estimator<2.13,>=2.12.0\n",
            "  Downloading tensorflow_estimator-2.12.0-py2.py3-none-any.whl (440 kB)\n",
            "\u001b[K     |████████████████████████████████| 440 kB 45.1 MB/s eta 0:00:01\n",
            "\u001b[?25hRequirement already satisfied: setuptools in /home/Students/stg60/miniconda3/envs/idstudy/lib/python3.8/site-packages (from tensorflow) (61.2.0)\n",
            "Collecting gast<=0.4.0,>=0.2.1\n",
            "  Using cached gast-0.4.0-py3-none-any.whl (9.8 kB)\n",
            "Collecting astunparse>=1.6.0\n",
            "  Using cached astunparse-1.6.3-py2.py3-none-any.whl (12 kB)\n",
            "Collecting numpy<1.24,>=1.22\n",
            "  Downloading numpy-1.23.5-cp38-cp38-manylinux_2_17_x86_64.manylinux2014_x86_64.whl (17.1 MB)\n",
            "\u001b[K     |████████████████████████████████| 17.1 MB 43.9 MB/s eta 0:00:01\n",
            "\u001b[?25hCollecting tensorboard<2.13,>=2.12\n",
            "  Downloading tensorboard-2.12.3-py3-none-any.whl (5.6 MB)\n",
            "\u001b[K     |████████████████████████████████| 5.6 MB 43.3 MB/s eta 0:00:01\n",
            "\u001b[?25hCollecting wrapt<1.15,>=1.11.0\n",
            "  Downloading wrapt-1.14.1-cp38-cp38-manylinux_2_5_x86_64.manylinux1_x86_64.manylinux_2_17_x86_64.manylinux2014_x86_64.whl (81 kB)\n",
            "\u001b[K     |████████████████████████████████| 81 kB 10.5 MB/s eta 0:00:01\n",
            "\u001b[?25hCollecting tensorflow-io-gcs-filesystem>=0.23.1\n",
            "  Downloading tensorflow_io_gcs_filesystem-0.32.0-cp38-cp38-manylinux_2_12_x86_64.manylinux2010_x86_64.whl (2.4 MB)\n",
            "\u001b[K     |████████████████████████████████| 2.4 MB 44.8 MB/s eta 0:00:01\n",
            "\u001b[?25hCollecting libclang>=13.0.0\n",
            "  Downloading libclang-16.0.0-py2.py3-none-manylinux2010_x86_64.whl (22.9 MB)\n",
            "\u001b[K     |████████████████████████████████| 22.9 MB 43.5 MB/s eta 0:00:01\n",
            "\u001b[?25hRequirement already satisfied: six>=1.12.0 in /home/Students/stg60/miniconda3/envs/idstudy/lib/python3.8/site-packages (from tensorflow) (1.16.0)\n",
            "Collecting absl-py>=1.0.0\n",
            "  Downloading absl_py-1.4.0-py3-none-any.whl (126 kB)\n",
            "\u001b[K     |████████████████████████████████| 126 kB 46.4 MB/s eta 0:00:01\n",
            "\u001b[?25hCollecting google-pasta>=0.1.1\n",
            "  Using cached google_pasta-0.2.0-py3-none-any.whl (57 kB)\n",
            "Requirement already satisfied: packaging in /home/Students/stg60/miniconda3/envs/idstudy/lib/python3.8/site-packages (from tensorflow) (23.1)\n",
            "Collecting grpcio<2.0,>=1.24.3\n",
            "  Downloading grpcio-1.54.2-cp38-cp38-manylinux_2_17_x86_64.manylinux2014_x86_64.whl (5.1 MB)\n",
            "\u001b[K     |████████████████████████████████| 5.1 MB 43.4 MB/s eta 0:00:01\n",
            "\u001b[?25hRequirement already satisfied: wheel<1.0,>=0.23.0 in /home/Students/stg60/miniconda3/envs/idstudy/lib/python3.8/site-packages (from astunparse>=1.6.0->tensorflow) (0.37.1)\n",
            "Collecting ml-dtypes>=0.1.0\n",
            "  Downloading ml_dtypes-0.1.0-cp38-cp38-manylinux_2_17_x86_64.manylinux2014_x86_64.whl (190 kB)\n",
            "\u001b[K     |████████████████████████████████| 190 kB 45.9 MB/s eta 0:00:01\n",
            "\u001b[?25hCollecting scipy>=1.7\n",
            "  Downloading scipy-1.10.1-cp38-cp38-manylinux_2_17_x86_64.manylinux2014_x86_64.whl (34.5 MB)\n",
            "\u001b[K     |████████████████████████████████| 34.5 MB 44.7 MB/s eta 0:00:01\n",
            "\u001b[?25hCollecting google-auth-oauthlib<1.1,>=0.5\n",
            "  Downloading google_auth_oauthlib-1.0.0-py2.py3-none-any.whl (18 kB)\n",
            "Collecting requests<3,>=2.21.0\n",
            "  Downloading requests-2.31.0-py3-none-any.whl (62 kB)\n",
            "\u001b[K     |████████████████████████████████| 62 kB 1.5 MB/s  eta 0:00:01\n",
            "\u001b[?25hCollecting markdown>=2.6.8\n",
            "  Downloading Markdown-3.4.3-py3-none-any.whl (93 kB)\n",
            "\u001b[K     |████████████████████████████████| 93 kB 3.0 MB/s  eta 0:00:01\n",
            "\u001b[?25hCollecting google-auth<3,>=1.6.3\n",
            "  Downloading google_auth-2.18.1-py2.py3-none-any.whl (178 kB)\n",
            "\u001b[K     |████████████████████████████████| 178 kB 46.1 MB/s eta 0:00:01\n",
            "\u001b[?25hCollecting werkzeug>=1.0.1\n",
            "  Downloading Werkzeug-2.3.4-py3-none-any.whl (242 kB)\n",
            "\u001b[K     |████████████████████████████████| 242 kB 45.2 MB/s eta 0:00:01\n",
            "\u001b[?25hCollecting tensorboard-data-server<0.8.0,>=0.7.0\n",
            "  Downloading tensorboard_data_server-0.7.0-py3-none-manylinux2014_x86_64.whl (6.6 MB)\n",
            "\u001b[K     |████████████████████████████████| 6.6 MB 43.1 MB/s eta 0:00:01\n",
            "\u001b[?25hCollecting rsa<5,>=3.1.4\n",
            "  Downloading rsa-4.9-py3-none-any.whl (34 kB)\n",
            "Collecting urllib3<2.0\n",
            "  Downloading urllib3-1.26.15-py2.py3-none-any.whl (140 kB)\n",
            "\u001b[K     |████████████████████████████████| 140 kB 46.1 MB/s eta 0:00:01\n",
            "\u001b[?25hCollecting cachetools<6.0,>=2.0.0\n",
            "  Downloading cachetools-5.3.0-py3-none-any.whl (9.3 kB)\n",
            "Collecting pyasn1-modules>=0.2.1\n",
            "  Downloading pyasn1_modules-0.3.0-py2.py3-none-any.whl (181 kB)\n",
            "\u001b[K     |████████████████████████████████| 181 kB 45.2 MB/s eta 0:00:01\n",
            "\u001b[?25hCollecting requests-oauthlib>=0.7.0\n",
            "  Using cached requests_oauthlib-1.3.1-py2.py3-none-any.whl (23 kB)\n",
            "Collecting importlib-metadata>=4.4\n",
            "  Downloading importlib_metadata-6.6.0-py3-none-any.whl (22 kB)\n",
            "Collecting zipp>=0.5\n",
            "  Downloading zipp-3.15.0-py3-none-any.whl (6.8 kB)\n",
            "Collecting pyasn1<0.6.0,>=0.4.6\n",
            "  Downloading pyasn1-0.5.0-py2.py3-none-any.whl (83 kB)\n",
            "\u001b[K     |████████████████████████████████| 83 kB 3.1 MB/s  eta 0:00:01\n",
            "\u001b[?25hCollecting charset-normalizer<4,>=2\n",
            "  Downloading charset_normalizer-3.1.0-cp38-cp38-manylinux_2_17_x86_64.manylinux2014_x86_64.whl (195 kB)\n",
            "\u001b[K     |████████████████████████████████| 195 kB 46.1 MB/s eta 0:00:01\n",
            "\u001b[?25hCollecting idna<4,>=2.5\n",
            "  Downloading idna-3.4-py3-none-any.whl (61 kB)\n",
            "\u001b[K     |████████████████████████████████| 61 kB 121 kB/s  eta 0:00:01\n",
            "\u001b[?25hRequirement already satisfied: certifi>=2017.4.17 in /home/Students/stg60/miniconda3/envs/idstudy/lib/python3.8/site-packages (from requests<3,>=2.21.0->tensorboard<2.13,>=2.12->tensorflow) (2023.5.7)\n",
            "Collecting oauthlib>=3.0.0\n",
            "  Downloading oauthlib-3.2.2-py3-none-any.whl (151 kB)\n",
            "\u001b[K     |████████████████████████████████| 151 kB 46.7 MB/s eta 0:00:01\n",
            "\u001b[?25hCollecting MarkupSafe>=2.1.1\n",
            "  Downloading MarkupSafe-2.1.2-cp38-cp38-manylinux_2_17_x86_64.manylinux2014_x86_64.whl (25 kB)\n",
            "Building wheels for collected packages: jax\n",
            "  Building wheel for jax (PEP 517) ... \u001b[?25ldone\n",
            "\u001b[?25h  Created wheel for jax: filename=jax-0.4.10-py3-none-any.whl size=1480503 sha256=3f24eadd2f48e9bd84222c26ed2e88e9bf81aac4ca4ea992f00eb91ce58efdad\n",
            "  Stored in directory: /home/Students/stg60/.cache/pip/wheels/6a/8c/35/209bfba5979c08e883a5cfcb9f3ddf907f9dd1c37ee83c1f8d\n",
            "Successfully built jax\n",
            "Installing collected packages: urllib3, pyasn1, idna, charset-normalizer, zipp, rsa, requests, pyasn1-modules, oauthlib, cachetools, requests-oauthlib, numpy, MarkupSafe, importlib-metadata, google-auth, werkzeug, tensorboard-data-server, scipy, protobuf, opt-einsum, ml-dtypes, markdown, grpcio, google-auth-oauthlib, absl-py, wrapt, termcolor, tensorflow-io-gcs-filesystem, tensorflow-estimator, tensorboard, libclang, keras, jax, h5py, google-pasta, gast, flatbuffers, astunparse, tensorflow\n",
            "  Attempting uninstall: numpy\n",
            "    Found existing installation: numpy 1.24.3\n",
            "    Uninstalling numpy-1.24.3:\n",
            "      Successfully uninstalled numpy-1.24.3\n",
            "Successfully installed MarkupSafe-2.1.2 absl-py-1.4.0 astunparse-1.6.3 cachetools-5.3.0 charset-normalizer-3.1.0 flatbuffers-23.5.9 gast-0.4.0 google-auth-2.18.1 google-auth-oauthlib-1.0.0 google-pasta-0.2.0 grpcio-1.54.2 h5py-3.8.0 idna-3.4 importlib-metadata-6.6.0 jax-0.4.10 keras-2.12.0 libclang-16.0.0 markdown-3.4.3 ml-dtypes-0.1.0 numpy-1.23.5 oauthlib-3.2.2 opt-einsum-3.3.0 protobuf-4.23.1 pyasn1-0.5.0 pyasn1-modules-0.3.0 requests-2.31.0 requests-oauthlib-1.3.1 rsa-4.9 scipy-1.10.1 tensorboard-2.12.3 tensorboard-data-server-0.7.0 tensorflow-2.12.0 tensorflow-estimator-2.12.0 tensorflow-io-gcs-filesystem-0.32.0 termcolor-2.3.0 urllib3-1.26.15 werkzeug-2.3.4 wrapt-1.14.1 zipp-3.15.0\n"
          ]
        }
      ],
      "source": [
        "#!pip install tensorflow"
      ]
    },
    {
      "cell_type": "code",
      "execution_count": 7,
      "metadata": {},
      "outputs": [
        {
          "name": "stdout",
          "output_type": "stream",
          "text": [
            "Collecting sklearn\n",
            "  Downloading sklearn-0.0.post5.tar.gz (3.7 kB)\n",
            "Building wheels for collected packages: sklearn\n",
            "  Building wheel for sklearn (setup.py) ... \u001b[?25ldone\n",
            "\u001b[?25h  Created wheel for sklearn: filename=sklearn-0.0.post5-py3-none-any.whl size=2971 sha256=5fdbe0f3f2f395a427a0d27914ed854835c5bf7e2143c43d59a546737daba74d\n",
            "  Stored in directory: /home/Students/stg60/.cache/pip/wheels/44/08/18/d0b86f591e929e063b3134b126c8a77b3758e527fe1a3f6fb8\n",
            "Successfully built sklearn\n",
            "Installing collected packages: sklearn\n",
            "Successfully installed sklearn-0.0.post5\n"
          ]
        }
      ],
      "source": [
        "#!pip install sklearn"
      ]
    },
    {
      "cell_type": "code",
      "execution_count": null,
      "metadata": {},
      "outputs": [],
      "source": [
        "#!pip install sklearn"
      ]
    },
    {
      "cell_type": "code",
      "execution_count": 11,
      "metadata": {},
      "outputs": [
        {
          "name": "stdout",
          "output_type": "stream",
          "text": [
            "Collecting plotly\n",
            "  Downloading plotly-5.14.1-py2.py3-none-any.whl (15.3 MB)\n",
            "\u001b[K     |████████████████████████████████| 15.3 MB 3.0 MB/s eta 0:00:01\n",
            "\u001b[?25hCollecting tenacity>=6.2.0\n",
            "  Downloading tenacity-8.2.2-py3-none-any.whl (24 kB)\n",
            "Requirement already satisfied: packaging in /home/Students/stg60/miniconda3/envs/idstudy/lib/python3.8/site-packages (from plotly) (23.1)\n",
            "Installing collected packages: tenacity, plotly\n",
            "Successfully installed plotly-5.14.1 tenacity-8.2.2\n"
          ]
        }
      ],
      "source": [
        "#!pip install plotly"
      ]
    },
    {
      "cell_type": "code",
      "execution_count": 16,
      "metadata": {},
      "outputs": [
        {
          "name": "stdout",
          "output_type": "stream",
          "text": [
            "Requirement already satisfied: pandas in /home/Students/stg60/miniconda3/envs/idstudy/lib/python3.8/site-packages (2.0.1)\n",
            "Requirement already satisfied: tzdata>=2022.1 in /home/Students/stg60/miniconda3/envs/idstudy/lib/python3.8/site-packages (from pandas) (2023.3)\n",
            "Requirement already satisfied: pytz>=2020.1 in /home/Students/stg60/miniconda3/envs/idstudy/lib/python3.8/site-packages (from pandas) (2023.3)\n",
            "Requirement already satisfied: numpy>=1.20.3 in /home/Students/stg60/miniconda3/envs/idstudy/lib/python3.8/site-packages (from pandas) (1.23.5)\n",
            "Requirement already satisfied: python-dateutil>=2.8.2 in /home/Students/stg60/miniconda3/envs/idstudy/lib/python3.8/site-packages (from pandas) (2.8.2)\n",
            "Requirement already satisfied: six>=1.5 in /home/Students/stg60/miniconda3/envs/idstudy/lib/python3.8/site-packages (from python-dateutil>=2.8.2->pandas) (1.16.0)\n"
          ]
        }
      ],
      "source": [
        "#!pip install pandas"
      ]
    },
    {
      "cell_type": "code",
      "execution_count": 2,
      "metadata": {
        "id": "zyzFLDonhLZA"
      },
      "outputs": [
        {
          "name": "stderr",
          "output_type": "stream",
          "text": [
            "2023-06-12 18:40:45.822638: I tensorflow/core/platform/cpu_feature_guard.cc:182] This TensorFlow binary is optimized to use available CPU instructions in performance-critical operations.\n",
            "To enable the following instructions: AVX2 AVX512F FMA, in other operations, rebuild TensorFlow with the appropriate compiler flags.\n",
            "2023-06-12 18:40:46.648650: W tensorflow/compiler/tf2tensorrt/utils/py_utils.cc:38] TF-TRT Warning: Could not find TensorRT\n"
          ]
        }
      ],
      "source": [
        "import numpy as np\n",
        "from pathlib import Path\n",
        "import tensorflow as tf\n",
        "import sys\n",
        "import os\n",
        "from datetime import datetime\n",
        "\n",
        "from sklearn.metrics import classification_report\n",
        "import numpy as np\n",
        "import plotly.express as px\n",
        "import plotly.graph_objects as go\n",
        "from plotly.subplots import make_subplots\n",
        "from sklearn.metrics import (\n",
        "    auc,\n",
        "    average_precision_score,\n",
        "    precision_recall_curve,\n",
        "    roc_curve,\n",
        ")\n",
        "from sklearn.metrics import ConfusionMatrixDisplay\n",
        "from sklearn import metrics\n"
      ]
    },
    {
      "cell_type": "code",
      "execution_count": 40,
      "metadata": {},
      "outputs": [
        {
          "name": "stdout",
          "output_type": "stream",
          "text": [
            "Requirement already satisfied: numba==0.54.1 in /home/Students/stg60/miniconda3/envs/tf_gpu_27/lib/python3.9/site-packages (0.54.1)\n",
            "Requirement already satisfied: llvmlite<0.38,>=0.37.0rc1 in /home/Students/stg60/miniconda3/envs/tf_gpu_27/lib/python3.9/site-packages (from numba==0.54.1) (0.37.0)\n",
            "Requirement already satisfied: numpy<1.21,>=1.17 in /home/Students/stg60/miniconda3/envs/tf_gpu_27/lib/python3.9/site-packages (from numba==0.54.1) (1.20.3)\n",
            "Requirement already satisfied: setuptools in /home/Students/stg60/miniconda3/envs/tf_gpu_27/lib/python3.9/site-packages (from numba==0.54.1) (58.0.4)\n"
          ]
        }
      ],
      "source": [
        "#!pip install numba==0.54.1"
      ]
    },
    {
      "cell_type": "code",
      "execution_count": 3,
      "metadata": {},
      "outputs": [],
      "source": [
        "%matplotlib inline\n",
        "import numpy as np\n",
        "import matplotlib.pyplot as plt\n"
      ]
    },
    {
      "cell_type": "code",
      "execution_count": 4,
      "metadata": {},
      "outputs": [],
      "source": [
        "import numpy as np\n",
        "from pathlib import Path\n",
        "from tqdm import tqdm\n",
        "from scipy.io import loadmat\n",
        "import random\n",
        "import math\n",
        "from numpy import genfromtxt\n",
        "import resampy\n",
        "import matplotlib.pyplot as plt"
      ]
    },
    {
      "cell_type": "code",
      "execution_count": null,
      "metadata": {},
      "outputs": [],
      "source": [
        "# !pip install seaborn\n"
      ]
    },
    {
      "cell_type": "code",
      "execution_count": 5,
      "metadata": {
        "id": "fEvVgLFD0n0J"
      },
      "outputs": [],
      "source": [
        "import matplotlib.pyplot as plt\n",
        "import seaborn as sns"
      ]
    },
    {
      "cell_type": "code",
      "execution_count": 6,
      "metadata": {},
      "outputs": [],
      "source": [
        "data_root = Path(\"/data/stg60/milton_plotData/\")\n",
        "data_milton_par = Path(\"/data/stg60/milton_plotData/\")\n",
        "#data_milton_par = Path(\"/data/stg60/milton_plotdata/test/\")\n",
        "data_milton_pred=Path(\"/data/stg60/milton_plotData/\")"
      ]
    },
    {
      "cell_type": "code",
      "execution_count": 7,
      "metadata": {},
      "outputs": [],
      "source": [
        "# def strides(a, L = 128, S=1):  # Window len = L, Stride len/stepsize = S\n",
        "#     tolist = False\n",
        "#     if isinstance(a, list):\n",
        "#         tolist = True\n",
        "#         a = np.array(a)\n",
        "#     if S is None:\n",
        "#         S = math.ceil(a.size/10)\n",
        "#     nrows = ((a.size - L) // S) + 1\n",
        "#     n = a.strides[0]\n",
        "#     #print(n)\n",
        "#     windows = np.lib.stride_tricks.as_strided(a, shape=(nrows, L), strides=(S * n, n))\n",
        "    \n",
        "#     if tolist:\n",
        "#         windows = windows.tolist()\n",
        "#     return windows\n",
        "# def read_tsv(tsv, start_index = 1024, end_index = None, scale = True):\n",
        "#     dat = genfromtxt(tsv, delimiter='\\t')\n",
        "#     x1,x2,x3,x4,x5,x6 = np.hsplit(dat,6)\n",
        "#     #ell_1=((x1-x4)**2+(x2-x5)**2+(x3-x6)**2)**0.5 + 1e-10\n",
        "#     ell_1=((x1-x4)**2+(x3-x6)**2)**0.5 + 1e-10\n",
        "#     ang_sin_x_1=(x1-x4)/ell_1\n",
        "#     phi =np.arcsin(ang_sin_x_1)*180/np.pi\n",
        "#     phi = phi.reshape(-1)[start_index:end_index]\n",
        "#     x1 = x4.reshape(-1)[start_index:end_index]\n",
        "#     phi = resampy.resample(phi, sr_orig = 250, sr_new = 100)\n",
        "#     x1 = resampy.resample(x1, sr_orig = 250, sr_new = 100)\n",
        "#     if scale:\n",
        "#         #phi = phi/20\n",
        "#         phi = phi\n",
        "#         #x1 = x1/0.335\n",
        "#         x1=x1\n",
        "#     return phi, x1\n",
        "# def prepareData(path, cutoff = 128, delay = 23, L = 128, timetopredict = 1.96, samplingrate = 100, fall_stride = 1, start_index = 1024, end_index = None, scale = True):\n",
        "#     \"\"\"AI is creating summary for prepareData\n",
        "\n",
        "#     Args:\n",
        "#         path ([Str]): [path to the original file]\n",
        "#         cutoff (int, optional): [description]. Defaults to 128.\n",
        "#         delay (int, optional): [description]. Defaults to 23.\n",
        "#         L (int, optional): [Window size]. Defaults to 128.\n",
        "#         timetopredict (float, optional): [description]. Defaults to 1.96.\n",
        "#         samplingrate (int, optional): [description]. Defaults to 100.\n",
        "#         fall_stride (int, optional): [description]. Defaults to 1.\n",
        "#         start_index (int, optional): [description]. Defaults to 1024.\n",
        "#         end_index ([type], optional): [description]. Defaults to None.\n",
        "#         scale (bool, optional): [description]. Defaults to True.\n",
        "#     Returns:\n",
        "#         [type]: [description]\n",
        "\n",
        "#     Yields:\n",
        "#         [type]: [description]\n",
        "#     \"\"\"\n",
        "#     # timetopredict in seconds, note 1 point = 0.01 seconds, or 100points = 1seconds\n",
        "#     def disect(*args, separator = None):\n",
        "#         for arg in args:\n",
        "#             nofall, fall = arg[:-separator], arg[-separator:]\n",
        "#             yield (nofall, fall)\n",
        "    \n",
        "#     if path.suffix == \".mat\":    \n",
        "#         if not isinstance(path, str):\n",
        "#             path = path.as_posix()\n",
        "#         mat = loadmat(path)\n",
        "#         phiv = mat['phiv'].reshape(-1)\n",
        "#         dxv = mat['xv'].reshape(-1)\n",
        "#         if scale:\n",
        "#             # phiv = phiv/20\n",
        "#             # dxv = dxv/0.335\n",
        "#             phiv = phiv\n",
        "#             dxv = dxv\n",
        "#     elif path.suffix == \".tsv\":\n",
        "#         phiv, dxv = read_tsv(path, start_index = start_index, end_index=end_index)\n",
        "  \n",
        "#     phiv = phiv[:-cutoff]\n",
        "#     dxv = dxv[:-cutoff]\n",
        "\n",
        "#     #phiv -> delay, respo\n",
        "#     delay_phiv = phiv[delay:]\n",
        "#     respo_phiv = phiv[:-delay]\n",
        "\n",
        "#     #dxv -> delay, respo\n",
        "#     delay_dxv = dxv[delay:]\n",
        "#     respo_dxv = dxv[:-delay]\n",
        "\n",
        "#     #fall region\n",
        "#     fall_region = L + int(timetopredict*samplingrate)\n",
        "#     [(n_delay_phiv, f_delay_phiv), (n_respo_phiv, f_respo_phiv)] = disect(delay_phiv, respo_phiv, separator=fall_region)\n",
        "#     [(n_delay_dxv, f_delay_dxv), (n_respo_dxv, f_respo_dxv)] = disect(delay_dxv, respo_dxv, separator=fall_region)\n",
        "\n",
        "#     if n_delay_phiv.size < f_delay_phiv.size:\n",
        "#         S = 1\n",
        "#     else:\n",
        "#         S = math.ceil((n_delay_phiv.size - f_delay_phiv.size)/(timetopredict*samplingrate+1))\n",
        "\n",
        "#     #s=1 for imbalanced\n",
        "#     # no_fall_windows(imbalanced)\n",
        "#     n_delay_phiv = strides(n_delay_phiv, L = L, S = 1)\n",
        "#     n_respo_phiv = strides(n_respo_phiv, L = L, S = 1)\n",
        "#     n_delay_dxv = strides(n_delay_dxv, L = L, S = 1)\n",
        "#     n_respo_dxv = strides(n_respo_dxv, L = L, S = 1)\n",
        "\n",
        "#     # fall_windows\n",
        "#     f_delay_phiv = strides(f_delay_phiv, L = L, S = fall_stride)\n",
        "#     #f_delay_phiv1 = strides(f_delay_phiv, L = L, S = fall_stride)\n",
        "#     f_respo_phiv = strides(f_respo_phiv, L = L, S = fall_stride)\n",
        "#     f_delay_dxv = strides(f_delay_dxv, L = L, S = fall_stride)\n",
        "#     f_respo_dxv = strides(f_respo_dxv, L = L, S = fall_stride)\n",
        "\n",
        "#     # concatenate features\n",
        "#     n_x = np.stack((n_delay_phiv,n_respo_phiv,n_delay_dxv,n_respo_dxv), -1)\n",
        "#     f_x = np.stack((f_delay_phiv,f_respo_phiv,f_delay_dxv,f_respo_dxv), -1)\n",
        "\n",
        "#     n_y = np.zeros(n_x.shape[0]).reshape(-1,1)\n",
        "#     f_y = np.ones(f_x.shape[0]).reshape(-1,1)\n",
        "\n",
        "#     x = np.concatenate((n_x,f_x), 0)\n",
        "#     y = np.concatenate((n_y,f_y), 0)\n",
        "\n",
        "#     return x, y, S, phiv, dxv, n_x, f_x"
      ]
    },
    {
      "cell_type": "code",
      "execution_count": 7,
      "metadata": {},
      "outputs": [],
      "source": [
        "def strides(a, L = 128, S=1):  # Window len = L, Stride len/stepsize = S\n",
        "    tolist = False\n",
        "    if isinstance(a, list):\n",
        "        tolist = True\n",
        "        a = np.array(a)\n",
        "    if S is None:\n",
        "        S = math.ceil(a.size/10)\n",
        "    nrows = ((a.size - L) // S) + 1\n",
        "    n = a.strides[0]\n",
        "    #print(n)\n",
        "    windows = np.lib.stride_tricks.as_strided(a, shape=(nrows, L), strides=(S * n, n))\n",
        "    \n",
        "    if tolist:\n",
        "        windows = windows.tolist()\n",
        "    return windows\n",
        "def read_tsv(tsv, start_index = 1024, end_index = None, scale = True):\n",
        "    dat = genfromtxt(tsv, delimiter='\\t')\n",
        "    x1,x2,x3,x4,x5,x6 = np.hsplit(dat,6)\n",
        "    #ell_1=((x1-x4)**2+(x2-x5)**2+(x3-x6)**2)**0.5 + 1e-10\n",
        "    ell_1=((x1-x4)**2+(x3-x6)**2)**0.5 + 1e-10\n",
        "    ang_sin_x_1=(x1-x4)/ell_1\n",
        "    phi =np.arcsin(ang_sin_x_1)*180/np.pi\n",
        "    phi = phi.reshape(-1)[start_index:end_index]\n",
        "    x1 = x4.reshape(-1)[start_index:end_index]\n",
        "    phi = resampy.resample(phi, sr_orig = 250, sr_new = 100)\n",
        "    x1 = resampy.resample(x1, sr_orig = 250, sr_new = 100)\n",
        "    if scale:\n",
        "        #phi = phi/20\n",
        "        phi = phi\n",
        "        #x1 = x1/0.335\n",
        "        x1=x1\n",
        "    return phi, x1\n",
        "def prepareData(path, cutoff = 128, delay = 23, L = 128, timetopredict = 1.96, samplingrate = 100, fall_stride = 1, start_index = 1024, end_index = None, scale = True):\n",
        "    \"\"\"AI is creating summary for prepareData\n",
        "\n",
        "    Args:\n",
        "        path ([Str]): [path to the original file]\n",
        "        cutoff (int, optional): [description]. Defaults to 128.\n",
        "        delay (int, optional): [description]. Defaults to 23.\n",
        "        L (int, optional): [Window size]. Defaults to 128.\n",
        "        timetopredict (float, optional): [description]. Defaults to 1.96.\n",
        "        samplingrate (int, optional): [description]. Defaults to 100.\n",
        "        fall_stride (int, optional): [description]. Defaults to 1.\n",
        "        start_index (int, optional): [description]. Defaults to 1024.\n",
        "        end_index ([type], optional): [description]. Defaults to None.\n",
        "        scale (bool, optional): [description]. Defaults to True.\n",
        "    Returns:\n",
        "        [type]: [description]\n",
        "\n",
        "    Yields:\n",
        "        [type]: [description]\n",
        "    \"\"\"\n",
        "    # timetopredict in seconds, note 1 point = 0.01 seconds, or 100points = 1seconds\n",
        "    def disect(*args, separator = None):\n",
        "        for arg in args:\n",
        "            nofall, fall = arg[:-separator], arg[-separator:]\n",
        "            yield (nofall, fall)\n",
        "    \n",
        "    if path.suffix == \".mat\":    \n",
        "        if not isinstance(path, str):\n",
        "            path = path.as_posix()\n",
        "        mat = loadmat(path)\n",
        "        phiv = mat['phiv'].reshape(-1)\n",
        "        dxv = mat['xv'].reshape(-1)\n",
        "        if scale:\n",
        "            # phiv = phiv/20\n",
        "            # dxv = dxv/0.335\n",
        "            phiv = phiv\n",
        "            dxv = dxv\n",
        "    elif path.suffix == \".tsv\":\n",
        "        phiv, dxv = read_tsv(path, start_index = start_index, end_index=end_index)\n",
        "  \n",
        "    phiv = phiv[:-cutoff]\n",
        "    dxv = dxv[:-cutoff]\n",
        "\n",
        "    #phiv -> delay, respo\n",
        "    delay_phiv = phiv[delay:]\n",
        "    respo_phiv = phiv[:-delay]\n",
        "\n",
        "    #dxv -> delay, respo\n",
        "    delay_dxv = dxv[delay:]\n",
        "    respo_dxv = dxv[:-delay]\n",
        "\n",
        "    # #fall region\n",
        "    # fall_region = L + int(timetopredict*samplingrate)\n",
        "    # [(n_delay_phiv, f_delay_phiv), (n_respo_phiv, f_respo_phiv)] = disect(delay_phiv, respo_phiv, separator=fall_region)\n",
        "    # [(n_delay_dxv, f_delay_dxv), (n_respo_dxv, f_respo_dxv)] = disect(delay_dxv, respo_dxv, separator=fall_region)\n",
        "\n",
        "    # if n_delay_phiv.size < f_delay_phiv.size:\n",
        "    #     S = 1\n",
        "    # else:\n",
        "    #     S = math.ceil((n_delay_phiv.size - f_delay_phiv.size)/(timetopredict*samplingrate+1))\n",
        "\n",
        "    # #s=1 for imbalanced\n",
        "    # # no_fall_windows(imbalanced)\n",
        "    # n_delay_phiv = strides(n_delay_phiv, L = L, S = 1)\n",
        "    # n_respo_phiv = strides(n_respo_phiv, L = L, S = 1)\n",
        "    # n_delay_dxv = strides(n_delay_dxv, L = L, S = 1)\n",
        "    # n_respo_dxv = strides(n_respo_dxv, L = L, S = 1)\n",
        "\n",
        "    # without sepearting fall and pre fall\n",
        "    s_delay_phiv = strides(delay_phiv, L = L, S = fall_stride)\n",
        "    #f_delay_phiv1 = strides(f_delay_phiv, L = L, S = fall_stride)\n",
        "    s_respo_phiv = strides(respo_phiv, L = L, S = fall_stride)\n",
        "    s_delay_dxv = strides(delay_dxv, L = L, S = fall_stride)\n",
        "    s_respo_dxv = strides(respo_dxv, L = L, S = fall_stride)\n",
        "\n",
        "    # concatenate features\n",
        "    s_x = np.stack((s_delay_phiv,s_respo_phiv,s_delay_dxv,s_respo_dxv), -1)\n",
        "    #f_x = np.stack((f_delay_phiv,f_respo_phiv,f_delay_dxv,f_respo_dxv), -1)\n",
        "\n",
        "    n_x=s_x[:-197]\n",
        "    f_x=s_x[-197:]\n",
        "\n",
        "    n_y = np.zeros(n_x.shape[0]).reshape(-1,1)\n",
        "    f_y = np.ones(f_x.shape[0]).reshape(-1,1)\n",
        "\n",
        "    x = np.concatenate((n_x,f_x), 0)\n",
        "    y = np.concatenate((n_y,f_y), 0)\n",
        "    S=1\n",
        "    return x, y, S, phiv, dxv, n_x, f_x"
      ]
    },
    {
      "cell_type": "code",
      "execution_count": 8,
      "metadata": {},
      "outputs": [],
      "source": [
        "def getOneHugeArray(path_list, start_index_list = None, end_index_list = None):\n",
        "    datax = []\n",
        "    datay = []\n",
        "    if start_index_list is None and end_index_list is None:    \n",
        "        for path in tqdm(path_list):\n",
        "            x,y,s, phiv, dxv, n_x, f_x= prepareData(path, cutoff = 128, delay = 23, L = 128, timetopredict = 1.96, samplingrate = 100, fall_stride = 1)\n",
        "            datax.append(x)\n",
        "            datay.append(y)\n",
        "    else:\n",
        "        for path, start_index, end_index in tqdm(zip(path_list, start_index_list, end_index_list)):\n",
        "            x,y,s,phiv, dxv, n_x, f_x = prepareData(path, cutoff = 128, delay = 23, L = 128, timetopredict = 1.96, samplingrate = 100, fall_stride = 1, start_index = start_index, end_index = end_index)\n",
        "            datax.append(x)\n",
        "            datay.append(y)\n",
        "    x = np.concatenate(datax)    \n",
        "    y = np.concatenate(datay)\n",
        "\n",
        "    return x, y, s, phiv, dxv, n_x, f_x\n",
        "def create_Real_Data(data_path_list, mode = \"pred\"):\n",
        "    phi_data=[]\n",
        "    data_path_list = sorted(data_path_list.glob('*.tsv'))\n",
        "    start_index_list = [1024]*len(data_path_list)\n",
        "    end_index_list = [None]*len(data_path_list)\n",
        "    for x in tqdm(data_path_list):\n",
        "        phi,dxv = read_tsv(x)\n",
        "        phi_data.append(phi)\n",
        "        plt.figure(figsize=(20,5))\n",
        "        plt.plot(phi, label = x.name)\n",
        "        print(len(phi))\n",
        "    plt.legend()\n",
        "    plt.savefig(f\"plots_{mode}.png\")\n",
        "\n",
        "    x, y, s, phi, dxv, n_x, f_x= getOneHugeArray(data_path_list, start_index_list = start_index_list, end_index_list = end_index_list)\n",
        "    # print(x)\n",
        "    # print(\"break\")\n",
        "    # print(y)\n",
        "    # # print(x[204])\n",
        "    # print(\"break\")\n",
        "    # print(y[207])\n",
        "    \n",
        "    \n",
        "    print(x.shape, y.shape, y.sum()/y.size)\n",
        "    np.savez(data_root/f\"{mode}.npz\", x = x, y = y)\n",
        "    return x,y, s, phi,dxv, n_x, f_x"
      ]
    },
    {
      "cell_type": "code",
      "execution_count": 8,
      "metadata": {},
      "outputs": [],
      "source": [
        "# def getAllMats(path = \"/data/stg60/milton_plotData/\", sample = None, filter_required = True, L = 128, timetopredict = 1.96, samplingrate = 100):\n",
        "#     maxsize = int(timetopredict*samplingrate) + L*4 + 1\n",
        "#     data = sorted(Path(path).glob(\"milton*.mat\"))\n",
        "#     if sample:\n",
        "#         data = random.sample(data, sample)\n",
        "#     if filter_required:\n",
        "#         data = list(filter(lambda x:loadmat(x)['phiv'].max()>20 and loadmat(x)['phiv'].size>maxsize, data))\n",
        "#         print(data)\n",
        "#     return data"
      ]
    },
    {
      "cell_type": "code",
      "execution_count": null,
      "metadata": {},
      "outputs": [],
      "source": [
        "# sim_path_list = getAllMats(sample=None)\n",
        "# print(\"The sampled sim_path_list is \", len(sim_path_list))\n"
      ]
    },
    {
      "cell_type": "code",
      "execution_count": 10,
      "metadata": {},
      "outputs": [],
      "source": [
        "# mat = loadmat('/data/stg60/milton_plotdata/test/milton_sim_0000000994.mat')\n",
        "# phiv_s = mat['phiv'].reshape(-1)\n",
        "# dxv_s = mat['dxv'].reshape(-1)\n",
        "        \n",
        "# phiv_sim = phiv_s/20\n",
        "# dxv_sim = dxv_s/0.335"
      ]
    },
    {
      "cell_type": "code",
      "execution_count": 11,
      "metadata": {},
      "outputs": [],
      "source": [
        "# phiv_sim = phiv_s[:-128]\n",
        "# delay_phiv_sim = phiv_sim[23:]\n",
        " \n",
        " "
      ]
    },
    {
      "cell_type": "code",
      "execution_count": 12,
      "metadata": {},
      "outputs": [],
      "source": [
        "    # phiv_sim = phiv_sim[:-128]\n",
        "    # dxv_sim = dxv_s[:-128]\n",
        "\n",
        "    # #phiv -> delay, respo\n",
        "    # delay_phiv_sim = phiv_sim[23:]\n",
        "    # respo_phiv_sim = phiv_sim[:-23]\n",
        "\n",
        "    # #dxv -> delay, respo\n",
        "    # delay_dxv_sim = dxv_sim[23:]\n",
        "    # respo_dxv_sim = dxv_sim[:-23]"
      ]
    },
    {
      "cell_type": "code",
      "execution_count": null,
      "metadata": {},
      "outputs": [],
      "source": [
        "# xtest, ytest, phivs, dxvs = getOneHugeArray(sim_path_list)\n",
        "# print(f\"The shape of xtrain is {xtest.shape}, the ratio of fall/nofall : {ytest.sum()/ytest.size}\")"
      ]
    },
    {
      "cell_type": "code",
      "execution_count": null,
      "metadata": {},
      "outputs": [],
      "source": [
        "# fig, ax = plt.subplots(figsize=(20, 5))\n",
        "# low1=2196\n",
        "# high1=2197\n",
        "# ax.plot(dxv)\n",
        "# ax.axvspan(low1, high1, color=\"red\", alpha=0.1)"
      ]
    },
    {
      "cell_type": "code",
      "execution_count": null,
      "metadata": {},
      "outputs": [],
      "source": [
        "# # plt.tick_params(axis='x', fontsize='17')\n",
        "# plt.figure(figsize=(15,3))\n",
        "# plt.plot(phiv_s)\n",
        "# plt.xlabel('Time', fontsize=15)\n",
        "# plt.ylabel('Angular Displacement', fontsize=15)\n",
        "# plt.xticks(fontsize=15)\n",
        "# plt.yticks(fontsize=15)"
      ]
    },
    {
      "cell_type": "code",
      "execution_count": 48,
      "metadata": {},
      "outputs": [],
      "source": [
        "\n",
        "# data_root.mkdir(exist_ok=True)\n",
        "\n",
        "# np.savez(data_root/\"testsim50.npz\", x = xtest, y = ytest)"
      ]
    },
    {
      "cell_type": "code",
      "execution_count": 9,
      "metadata": {},
      "outputs": [
        {
          "name": "stderr",
          "output_type": "stream",
          "text": [
            "100%|██████████| 1/1 [00:00<00:00,  1.84it/s]\n"
          ]
        },
        {
          "name": "stdout",
          "output_type": "stream",
          "text": [
            "1551\n"
          ]
        },
        {
          "name": "stderr",
          "output_type": "stream",
          "text": [
            "1it [00:00, 19.02it/s]\n"
          ]
        },
        {
          "name": "stdout",
          "output_type": "stream",
          "text": [
            "(1273, 128, 4) (1273, 1) 0.15475255302435192\n"
          ]
        },
        {
          "data": {
            "image/png": "[encoded data removed]",
            "text/plain": [
              "<Figure size 2000x500 with 1 Axes>"
            ]
          },
          "metadata": {},
          "output_type": "display_data"
        }
      ],
      "source": [
        "x,y,s, phivr,dxvr, n_x, f_x= create_Real_Data(data_milton_pred, mode = \"realmil63\")\n",
        "\n"
      ]
    },
    {
      "cell_type": "code",
      "execution_count": 10,
      "metadata": {},
      "outputs": [
        {
          "data": {
            "text/plain": [
              "(1273, 128, 4)"
            ]
          },
          "execution_count": 10,
          "metadata": {},
          "output_type": "execute_result"
        }
      ],
      "source": [
        "x.shape"
      ]
    },
    {
      "cell_type": "code",
      "execution_count": 11,
      "metadata": {},
      "outputs": [
        {
          "data": {
            "text/plain": [
              "(1076, 128, 4)"
            ]
          },
          "execution_count": 11,
          "metadata": {},
          "output_type": "execute_result"
        }
      ],
      "source": [
        "n_x.shape"
      ]
    },
    {
      "cell_type": "code",
      "execution_count": 212,
      "metadata": {},
      "outputs": [
        {
          "data": {
            "text/plain": [
              "(197, 128, 4)"
            ]
          },
          "execution_count": 212,
          "metadata": {},
          "output_type": "execute_result"
        }
      ],
      "source": [
        "f_x.shape"
      ]
    },
    {
      "cell_type": "code",
      "execution_count": null,
      "metadata": {},
      "outputs": [],
      "source": [
        "# #only real\n",
        "# fig, ax = plt.subplots(figsize=(15, 2))\n",
        "# ax.plot(phivtest)\n",
        "# high=[]\n",
        "# low=[]\n",
        "\n",
        "# # for j in range (0,5048):\n",
        "# #     for i in range (0,521):\n",
        "# #      l=not_matched[i]\n",
        "# #      low.append(l)\n",
        "# #      sum=(not_matched[i])\n",
        "# #      high.append(sum)\n",
        "\n",
        "# #ax.axvspan(low[j], high[j], color=\"grey\", alpha=0.3,linestyle='dotted')\n",
        "# ax.axvspan(2145, 2145, color=\"black\", alpha=.3)\n",
        "# #ax.axvspan(5037, 5037, color=\"red\", alpha=.3)\n",
        "# #ax.axvspan(5048, 5048, color=\"blue\", alpha=.3)"
      ]
    },
    {
      "cell_type": "code",
      "execution_count": 12,
      "metadata": {
        "id": "604TPxUZlh0l"
      },
      "outputs": [],
      "source": [
        "\n",
        "trainpath = Path(f\"/data/stg60/newmilton_processeddata/version_2/train.npz\")\n",
        "valpath = Path(f\"/data/stg60/newmilton_processeddata/version_2/val.npz\")\n",
        "testpath = Path(f\"/data/stg60/milton_plotData/realmil63.npz\")\n",
        "#testpath = Path(f\"/data/stg60/milton_plotdata/test/karl_20.npz\")"
      ]
    },
    {
      "cell_type": "code",
      "execution_count": 119,
      "metadata": {},
      "outputs": [],
      "source": [
        "checkpoint_root = f\"/data/stg60/MiltonTLModel/TLmodel/version_1/\"\n",
        "#checkpoint_root = f\"/data/stg60/savedModelmilton_xvPhiv/version_4/\"\n",
        "#checkpoint_root = f\"/data/stg60/miltonOnlyRealModel/version_2/\"\n",
        "checkpoint_path = f\"{checkpoint_root}/model.ckpt\""
      ]
    },
    {
      "cell_type": "code",
      "execution_count": null,
      "metadata": {},
      "outputs": [],
      "source": [
        "# os.environ[\"CUDA_VISIBLE_DEVICES\"]=\"4\"\n",
        "# tf_device='/gpu:4'"
      ]
    },
    {
      "cell_type": "code",
      "execution_count": 14,
      "metadata": {
        "colab": {
          "base_uri": "https://localhost:8080/"
        },
        "id": "8O4BVg90hY6-",
        "outputId": "94149375-7d56-4315-f426-dee42a1c169d"
      },
      "outputs": [
        {
          "name": "stdout",
          "output_type": "stream",
          "text": [
            "Train Loading\n",
            "Train Loaded\n",
            "Val Loading\n",
            "Val Loaded\n",
            "Test Loading\n",
            "Test Loaded\n"
          ]
        },
        {
          "name": "stderr",
          "output_type": "stream",
          "text": [
            "2023-06-12 18:42:54.919322: W tensorflow/core/common_runtime/gpu/gpu_device.cc:1956] Cannot dlopen some GPU libraries. Please make sure the missing libraries mentioned above are installed properly if you would like to use GPU. Follow the guide at https://www.tensorflow.org/install/gpu for how to download and setup the required libraries for your platform.\n",
            "Skipping registering GPU devices...\n"
          ]
        }
      ],
      "source": [
        "BATCH_SIZE = 128\n",
        "TEST_BATCH_SIZE = 128\n",
        "SHUFFLE_BUFFER_SIZE = BATCH_SIZE * 128\n",
        "limit=None\n",
        "print('Train Loading')\n",
        "with np.load(trainpath, allow_pickle=True) as data:\n",
        "    train_examples = data['x'][:limit]\n",
        "    train_labels = (data['y'][:limit]).astype(np.int64)\n",
        "\n",
        "train_dataset = tf.data.Dataset.from_tensor_slices((train_examples, train_labels))\n",
        "train_dataset = train_dataset.shuffle(SHUFFLE_BUFFER_SIZE).batch(BATCH_SIZE).prefetch(8)\n",
        "print('Train Loaded')\n",
        "\n",
        "print('Val Loading')\n",
        "with np.load(valpath, allow_pickle=True) as data:\n",
        "    val_examples = data['x']\n",
        "    val_labels = (data['y']).astype(np.int64)\n",
        "\n",
        "val_dataset = tf.data.Dataset.from_tensor_slices((val_examples, val_labels)).prefetch(8)\n",
        "val_dataset = val_dataset.batch(BATCH_SIZE)\n",
        "print('Val Loaded')\n",
        "\n",
        "\n",
        "print('Test Loading')\n",
        "with np.load(testpath, allow_pickle=True) as data:\n",
        "    test_examples = data['x']\n",
        "    test_labels = (data['y']).astype(np.int64)\n",
        "\n",
        "test_dataset = tf.data.Dataset.from_tensor_slices((test_examples, test_labels)).prefetch(8)\n",
        "test_dataset = test_dataset.batch(TEST_BATCH_SIZE)\n",
        "print('Test Loaded')"
      ]
    },
    {
      "cell_type": "code",
      "execution_count": 15,
      "metadata": {},
      "outputs": [
        {
          "data": {
            "text/plain": [
              "1273"
            ]
          },
          "execution_count": 15,
          "metadata": {},
          "output_type": "execute_result"
        }
      ],
      "source": [
        "len(test_examples)"
      ]
    },
    {
      "cell_type": "code",
      "execution_count": 16,
      "metadata": {
        "id": "cbIUfNSetlgo"
      },
      "outputs": [],
      "source": [
        "options = tf.data.Options()\n",
        "options.experimental_distribute.auto_shard_policy = tf.data.experimental.AutoShardPolicy.DATA\n",
        "train_data = train_dataset.with_options(options)\n",
        "val_dataset = val_dataset.with_options(options)\n",
        "test_dataset = test_dataset.with_options(options)"
      ]
    },
    {
      "cell_type": "code",
      "execution_count": 17,
      "metadata": {
        "colab": {
          "base_uri": "https://localhost:8080/"
        },
        "id": "2fIZOg8rucOj",
        "outputId": "a3fdb0b8-1ed1-4b40-e0fd-f187eaaba0d6"
      },
      "outputs": [
        {
          "name": "stdout",
          "output_type": "stream",
          "text": [
            "Creating a model\n"
          ]
        }
      ],
      "source": [
        "print(\"Creating a model\")\n",
        "tf.keras.backend.set_floatx('float64')"
      ]
    },
    {
      "cell_type": "code",
      "execution_count": 18,
      "metadata": {
        "id": "wtqX-hP-u8ik"
      },
      "outputs": [],
      "source": [
        "strategy = tf.distribute.MirroredStrategy"
      ]
    },
    {
      "cell_type": "code",
      "execution_count": 19,
      "metadata": {
        "id": "ooWCab07usbi"
      },
      "outputs": [
        {
          "name": "stderr",
          "output_type": "stream",
          "text": [
            "2023-06-12 18:43:22.148817: I tensorflow/core/common_runtime/executor.cc:1197] [/device:CPU:0] (DEBUG INFO) Executor start aborting (this does not indicate an error and you can ignore this message): INVALID_ARGUMENT: You must feed a value for placeholder tensor 'gradients/split_2_grad/concat/split_2/split_dim' with dtype int32\n",
            "\t [[{{node gradients/split_2_grad/concat/split_2/split_dim}}]]\n",
            "2023-06-12 18:43:22.150685: I tensorflow/core/common_runtime/executor.cc:1197] [/device:CPU:0] (DEBUG INFO) Executor start aborting (this does not indicate an error and you can ignore this message): INVALID_ARGUMENT: You must feed a value for placeholder tensor 'gradients/split_grad/concat/split/split_dim' with dtype int32\n",
            "\t [[{{node gradients/split_grad/concat/split/split_dim}}]]\n",
            "2023-06-12 18:43:22.151823: I tensorflow/core/common_runtime/executor.cc:1197] [/device:CPU:0] (DEBUG INFO) Executor start aborting (this does not indicate an error and you can ignore this message): INVALID_ARGUMENT: You must feed a value for placeholder tensor 'gradients/split_1_grad/concat/split_1/split_dim' with dtype int32\n",
            "\t [[{{node gradients/split_1_grad/concat/split_1/split_dim}}]]\n",
            "2023-06-12 18:43:22.273934: I tensorflow/core/common_runtime/executor.cc:1197] [/device:CPU:0] (DEBUG INFO) Executor start aborting (this does not indicate an error and you can ignore this message): INVALID_ARGUMENT: You must feed a value for placeholder tensor 'gradients/ReverseV2_grad/ReverseV2/ReverseV2/axis' with dtype int32 and shape [1]\n",
            "\t [[{{node gradients/ReverseV2_grad/ReverseV2/ReverseV2/axis}}]]\n",
            "2023-06-12 18:43:22.317028: I tensorflow/core/common_runtime/executor.cc:1197] [/device:CPU:0] (DEBUG INFO) Executor start aborting (this does not indicate an error and you can ignore this message): INVALID_ARGUMENT: You must feed a value for placeholder tensor 'gradients/split_2_grad/concat/split_2/split_dim' with dtype int32\n",
            "\t [[{{node gradients/split_2_grad/concat/split_2/split_dim}}]]\n",
            "2023-06-12 18:43:22.318314: I tensorflow/core/common_runtime/executor.cc:1197] [/device:CPU:0] (DEBUG INFO) Executor start aborting (this does not indicate an error and you can ignore this message): INVALID_ARGUMENT: You must feed a value for placeholder tensor 'gradients/split_grad/concat/split/split_dim' with dtype int32\n",
            "\t [[{{node gradients/split_grad/concat/split/split_dim}}]]\n",
            "2023-06-12 18:43:22.319448: I tensorflow/core/common_runtime/executor.cc:1197] [/device:CPU:0] (DEBUG INFO) Executor start aborting (this does not indicate an error and you can ignore this message): INVALID_ARGUMENT: You must feed a value for placeholder tensor 'gradients/split_1_grad/concat/split_1/split_dim' with dtype int32\n",
            "\t [[{{node gradients/split_1_grad/concat/split_1/split_dim}}]]\n",
            "2023-06-12 18:43:22.771599: I tensorflow/core/common_runtime/executor.cc:1197] [/device:CPU:0] (DEBUG INFO) Executor start aborting (this does not indicate an error and you can ignore this message): INVALID_ARGUMENT: You must feed a value for placeholder tensor 'gradients/split_2_grad/concat/split_2/split_dim' with dtype int32\n",
            "\t [[{{node gradients/split_2_grad/concat/split_2/split_dim}}]]\n",
            "2023-06-12 18:43:22.773309: I tensorflow/core/common_runtime/executor.cc:1197] [/device:CPU:0] (DEBUG INFO) Executor start aborting (this does not indicate an error and you can ignore this message): INVALID_ARGUMENT: You must feed a value for placeholder tensor 'gradients/split_grad/concat/split/split_dim' with dtype int32\n",
            "\t [[{{node gradients/split_grad/concat/split/split_dim}}]]\n",
            "2023-06-12 18:43:22.774427: I tensorflow/core/common_runtime/executor.cc:1197] [/device:CPU:0] (DEBUG INFO) Executor start aborting (this does not indicate an error and you can ignore this message): INVALID_ARGUMENT: You must feed a value for placeholder tensor 'gradients/split_1_grad/concat/split_1/split_dim' with dtype int32\n",
            "\t [[{{node gradients/split_1_grad/concat/split_1/split_dim}}]]\n",
            "2023-06-12 18:43:22.894976: I tensorflow/core/common_runtime/executor.cc:1197] [/device:CPU:0] (DEBUG INFO) Executor start aborting (this does not indicate an error and you can ignore this message): INVALID_ARGUMENT: You must feed a value for placeholder tensor 'gradients/ReverseV2_grad/ReverseV2/ReverseV2/axis' with dtype int32 and shape [1]\n",
            "\t [[{{node gradients/ReverseV2_grad/ReverseV2/ReverseV2/axis}}]]\n",
            "2023-06-12 18:43:22.936954: I tensorflow/core/common_runtime/executor.cc:1197] [/device:CPU:0] (DEBUG INFO) Executor start aborting (this does not indicate an error and you can ignore this message): INVALID_ARGUMENT: You must feed a value for placeholder tensor 'gradients/split_2_grad/concat/split_2/split_dim' with dtype int32\n",
            "\t [[{{node gradients/split_2_grad/concat/split_2/split_dim}}]]\n",
            "2023-06-12 18:43:22.938190: I tensorflow/core/common_runtime/executor.cc:1197] [/device:CPU:0] (DEBUG INFO) Executor start aborting (this does not indicate an error and you can ignore this message): INVALID_ARGUMENT: You must feed a value for placeholder tensor 'gradients/split_grad/concat/split/split_dim' with dtype int32\n",
            "\t [[{{node gradients/split_grad/concat/split/split_dim}}]]\n",
            "2023-06-12 18:43:22.939336: I tensorflow/core/common_runtime/executor.cc:1197] [/device:CPU:0] (DEBUG INFO) Executor start aborting (this does not indicate an error and you can ignore this message): INVALID_ARGUMENT: You must feed a value for placeholder tensor 'gradients/split_1_grad/concat/split_1/split_dim' with dtype int32\n",
            "\t [[{{node gradients/split_1_grad/concat/split_1/split_dim}}]]\n"
          ]
        }
      ],
      "source": [
        "\n",
        "\n",
        "    model = tf.keras.Sequential([\n",
        "        tf.keras.layers.InputLayer(input_shape=(128, 4)),\n",
        "        tf.keras.layers.LayerNormalization(\n",
        "            axis=1, epsilon=1e-10, center=True, scale=True,\n",
        "            beta_initializer='zeros', gamma_initializer='ones',\n",
        "        ),\n",
        "        \n",
        "        tf.keras.layers.Bidirectional(tf.keras.layers.LSTM(256, return_sequences=True)),\n",
        "        tf.keras.layers.Bidirectional(tf.keras.layers.LSTM(256, return_sequences=False)),\n",
        "        \n",
        "        tf.keras.layers.BatchNormalization(axis=-1,\n",
        "                                           momentum=0.99,\n",
        "                                           epsilon=0.001,\n",
        "                                           ),\n",
        "        tf.keras.layers.Dense(128, activation='relu'),\n",
        "        # tf.keras.layers.Dropout(0.5),\n",
        "        tf.keras.layers.BatchNormalization(axis=-1,\n",
        "                                           momentum=0.99,\n",
        "                                           epsilon=0.001,\n",
        "                                           ),\n",
        "        tf.keras.layers.Dense(64, activation='relu'),\n",
        "        tf.keras.layers.BatchNormalization(axis=-1,\n",
        "                                           momentum=0.99,\n",
        "                                           epsilon=0.001,\n",
        "                                           ),\n",
        "        tf.keras.layers.Dense(32, activation='relu'),\n",
        "        # tf.keras.layers.Dropout(0.5),\n",
        "        tf.keras.layers.BatchNormalization(axis=-1,\n",
        "                                           momentum=0.99,\n",
        "                                           epsilon=0.001,\n",
        "                                           ),\n",
        "        tf.keras.layers.Dense(16, activation='relu'),\n",
        "        tf.keras.layers.BatchNormalization(axis=-1,\n",
        "                                           momentum=0.99,\n",
        "                                           epsilon=0.001,\n",
        "                                           ),\n",
        "        tf.keras.layers.Dense(1)\n",
        "    ])\n",
        "\n",
        "    model.load_weights(checkpoint_path)\n",
        "\n",
        "    # regularizer = tf.keras.regularizers.l1(0.01)\n",
        "    # for layer in model.layers:\n",
        "    #  for attr in ['kernel_regularizer']:\n",
        "    #     if hasattr(layer, attr):\n",
        "    #       setattr(layer, attr, regularizer)\n",
        "\n",
        "    model.compile(optimizer=tf.keras.optimizers.SGD(),\n",
        "                  loss=tf.keras.losses.BinaryCrossentropy(from_logits=True),\n",
        "    metrics = ['accuracy']) \n",
        "\n",
        "\n",
        "\n",
        "\n",
        "\n",
        "   "
      ]
    },
    {
      "cell_type": "code",
      "execution_count": 20,
      "metadata": {
        "id": "IALg2nDmyVq6"
      },
      "outputs": [],
      "source": [
        "callback = tf.keras.callbacks.EarlyStopping(monitor='val_loss', patience=5)\n",
        "\n",
        "\n",
        "# Create a callback that saves the model's weights\n",
        "cp_callback = tf.keras.callbacks.ModelCheckpoint(filepath='/content/model.ckpt',\n",
        "                                                 save_weights_only=True,\n",
        "                                                 verbose=1,\n",
        "                                                 save_best_only=True)"
      ]
    },
    {
      "cell_type": "code",
      "execution_count": 120,
      "metadata": {
        "colab": {
          "base_uri": "https://localhost:8080/"
        },
        "id": "XYc8CNiXyfzC",
        "outputId": "a0a7c1ea-4d4a-4cf0-e13d-36b67dd6b9c6"
      },
      "outputs": [
        {
          "data": {
            "text/plain": [
              "<tensorflow.python.checkpoint.checkpoint.CheckpointLoadStatus at 0x7f9480290d00>"
            ]
          },
          "execution_count": 120,
          "metadata": {},
          "output_type": "execute_result"
        }
      ],
      "source": [
        "model.load_weights(checkpoint_path)"
      ]
    },
    {
      "cell_type": "code",
      "execution_count": 121,
      "metadata": {
        "colab": {
          "base_uri": "https://localhost:8080/"
        },
        "id": "2eDdg__mytbj",
        "outputId": "26ac58a1-e03b-4084-ed40-015f2b981607"
      },
      "outputs": [
        {
          "name": "stdout",
          "output_type": "stream",
          "text": [
            "Model Evaluation Started\n",
            "40/40 [==============================] - 12s 306ms/step\n",
            "              precision    recall  f1-score   support\n",
            "\n",
            "     No-Fall       0.91      0.92      0.91      1076\n",
            "        Fall       0.53      0.53      0.53       197\n",
            "\n",
            "    accuracy                           0.86      1273\n",
            "   macro avg       0.72      0.72      0.72      1273\n",
            "weighted avg       0.85      0.86      0.86      1273\n",
            "\n"
          ]
        }
      ],
      "source": [
        "    print(\"Model Evaluation Started\")\n",
        "    \n",
        "    y_prob = tf.sigmoid(model.predict(test_examples))\n",
        "    y_out = (y_prob > 0.6).numpy().astype(\"int32\")\n",
        "    #y_out = (y_prob > 0.5).numpy().astype(\"int32\")\n",
        "    target_names = ['No-Fall', 'Fall']\n",
        "    report = classification_report(test_labels, y_out, target_names=target_names, zero_division = 0)\n",
        "    \n",
        "    # with open(f\"{rep_root}/test_report_version_{version_catalog}.txt\",\"w\") as f:\n",
        "    #     f.write(report)\n",
        "    print(report)"
      ]
    },
    {
      "cell_type": "code",
      "execution_count": null,
      "metadata": {},
      "outputs": [],
      "source": [
        "# confusion_matrix = metrics.confusion_matrix(test_labels, y_out)\n",
        "\n",
        "# cm_display = metrics.ConfusionMatrixDisplay(confusion_matrix = confusion_matrix, display_labels = [True,False])\n",
        "\n",
        "# cm_display.plot()\n",
        "# plt.show()"
      ]
    },
    {
      "cell_type": "code",
      "execution_count": 274,
      "metadata": {},
      "outputs": [
        {
          "data": {
            "text/plain": [
              "(1273, 128, 4)"
            ]
          },
          "execution_count": 274,
          "metadata": {},
          "output_type": "execute_result"
        }
      ],
      "source": [
        "len(test_examples)\n",
        "test_examples.shape"
      ]
    },
    {
      "cell_type": "code",
      "execution_count": 122,
      "metadata": {},
      "outputs": [],
      "source": [
        "#Calculating how many windows are predicted incorrectly \n",
        "not_matched=[]\n",
        "matched=[]\n",
        "for i in range(0,len(test_labels)):\n",
        "    if test_labels[i]!= y_out[i]:\n",
        "        not_matched.append(i)\n",
        "    else:\n",
        "        matched.append(i)\n",
        "\n",
        "\n",
        "\n",
        "     "
      ]
    },
    {
      "cell_type": "code",
      "execution_count": 123,
      "metadata": {},
      "outputs": [
        {
          "data": {
            "text/plain": [
              "184"
            ]
          },
          "execution_count": 123,
          "metadata": {},
          "output_type": "execute_result"
        }
      ],
      "source": [
        "len(not_matched)"
      ]
    },
    {
      "cell_type": "code",
      "execution_count": 26,
      "metadata": {},
      "outputs": [
        {
          "data": {
            "text/plain": [
              "1272"
            ]
          },
          "execution_count": 26,
          "metadata": {},
          "output_type": "execute_result"
        }
      ],
      "source": [
        "#first data point of last failed window\n",
        "not_matched[196]"
      ]
    },
    {
      "cell_type": "code",
      "execution_count": 157,
      "metadata": {},
      "outputs": [],
      "source": [
        "# feature_1=[]\n",
        "# for i in range(0,127):\n",
        "#     feature_1.append(test_examples[2][i][0])\n",
        "    "
      ]
    },
    {
      "cell_type": "code",
      "execution_count": 225,
      "metadata": {},
      "outputs": [],
      "source": [
        "# feature1=[]\n",
        "# for j in range (0,184):\n",
        "#     col=[]\n",
        "#     for i in range(0,127):\n",
        "#         col.append(test_examples[not_matched[j]][i][0])\n",
        "\n",
        "#     feature1.append(col)"
      ]
    },
    {
      "attachments": {},
      "cell_type": "markdown",
      "metadata": {},
      "source": []
    },
    {
      "cell_type": "code",
      "execution_count": 72,
      "metadata": {},
      "outputs": [],
      "source": [
        "# feature1_total=[]\n",
        "# for j in range (0,1270):\n",
        "#     col=[]\n",
        "#     for i in range(0,128):\n",
        "#         col.append(test_examples[j][i][0])\n",
        "\n",
        "#     feature1_total.append(col)"
      ]
    },
    {
      "cell_type": "code",
      "execution_count": 102,
      "metadata": {},
      "outputs": [],
      "source": [
        "# feature1_total=[]\n",
        "# for j in range (0,400):\n",
        "#     col=[]\n",
        "#     for i in range(0,127):\n",
        "#         col.append(test_examples[j][i][0])\n",
        "\n",
        "#     feature1_total.append(col)"
      ]
    },
    {
      "cell_type": "code",
      "execution_count": 73,
      "metadata": {},
      "outputs": [],
      "source": [
        "# feature1_total=np.array(feature1_total)\n",
        "# feature1_total_flatten=feature1_total.flatten()"
      ]
    },
    {
      "cell_type": "code",
      "execution_count": 27,
      "metadata": {},
      "outputs": [],
      "source": [
        " phivru=phivr[:-23]"
      ]
    },
    {
      "cell_type": "code",
      "execution_count": 279,
      "metadata": {},
      "outputs": [
        {
          "data": {
            "text/plain": [
              "1400"
            ]
          },
          "execution_count": 279,
          "metadata": {},
          "output_type": "execute_result"
        }
      ],
      "source": [
        "len(phivru)"
      ]
    },
    {
      "cell_type": "code",
      "execution_count": 125,
      "metadata": {},
      "outputs": [
        {
          "data": {
            "image/png": "[encoded data removed]",
            "text/plain": [
              "<Figure size 1500x200 with 1 Axes>"
            ]
          },
          "metadata": {},
          "output_type": "display_data"
        }
      ],
      "source": [
        "#\n",
        "fig, ax = plt.subplots(figsize=(15, 2))\n",
        "ax.plot(phivru)\n",
        "high=[]\n",
        "low=[]\n",
        "# this range is the total window of the trajectory\n",
        "for j in range (0,1273):\n",
        "    #this range is how many incorrect windows are there.\n",
        "    # these ranges changes according to each data trajectory\n",
        "    for i in range (0,184):\n",
        "     l=not_matched[i]\n",
        "     low.append(l)\n",
        "     sum=(not_matched[i])\n",
        "     high.append(sum)\n",
        "    # for plotting incorrect prediction. only First data point of incorrectly predicted window \n",
        "    fig.savefig('tlnew.svg', format='svg', dpi=300)\n",
        "    ax.axvspan(low[j], high[j], color=\"cyan\", alpha=0.3,linestyle='dotted')\n",
        "    # I am manually calculating these data points for each data trajectory\n",
        "    # plotting the line which separate no fall and pre fall region\n",
        "    #ax.axvspan(1076, 1076, color=\"black\", alpha=.3)\n",
        "    # plotting the first point of last failed window\n",
        "    #ax.axvspan(1257, 1257, color=\"red\", alpha=.3)\n",
        "    # plotting first point of very last window\n",
        "    #ax.axvspan(1273, 1273, color=\"green\", alpha=.3)"
      ]
    },
    {
      "attachments": {},
      "cell_type": "markdown",
      "metadata": {},
      "source": [
        "#We dont need the codes below right now. "
      ]
    },
    {
      "cell_type": "code",
      "execution_count": null,
      "metadata": {},
      "outputs": [],
      "source": [
        "# #only real\n",
        "# fig, ax = plt.subplots(figsize=(20, 2))\n",
        "# ax.plot(phivru)\n",
        "# high=[]\n",
        "# low=[]\n",
        "\n",
        "# for j in range (0,1159):\n",
        "#     for i in range (0,232):\n",
        "#      l=not_matched[i]\n",
        "#      low.append(l)\n",
        "#      sum=(not_matched[i])\n",
        "#      high.append(sum)\n",
        "\n",
        "#     ax.axvspan(low[j], high[j], color=\"grey\", alpha=0.3,linestyle='dotted')\n",
        "#     ax.axvspan(1089, 1089, color=\"black\", alpha=.3)\n",
        "#     ax.axvspan(1158, 1158, color=\"red\", alpha=.3)\n",
        "#     ax.axvspan(1159, 1159, color=\"blue\", alpha=.3)"
      ]
    },
    {
      "cell_type": "code",
      "execution_count": null,
      "metadata": {},
      "outputs": [],
      "source": [
        "# #only real\n",
        "# fig, ax = plt.subplots(figsize=(20, 2))\n",
        "# ax.plot(phivru)\n",
        "# high=[]\n",
        "# low=[]\n",
        "\n",
        "# for j in range (0,1159):\n",
        "#     for i in range (0,317):\n",
        "#      l=not_matched[i]\n",
        "#      low.append(l)\n",
        "#      sum=(not_matched[i])\n",
        "#      high.append(sum)\n",
        "\n",
        "#     ax.axvspan(low[j], high[j], color=\"grey\", alpha=0.3,linestyle='dotted')\n",
        "#     ax.axvspan(1089, 1089, color=\"black\", alpha=.3)\n",
        "#     ax.axvspan(1158, 1158, color=\"red\", alpha=.3)\n",
        "#     ax.axvspan(1159, 1159, color=\"blue\", alpha=.3)"
      ]
    },
    {
      "cell_type": "code",
      "execution_count": null,
      "metadata": {},
      "outputs": [],
      "source": [
        "# #only real\n",
        "# fig, ax = plt.subplots(figsize=(20, 2))\n",
        "# ax.plot(phivru)\n",
        "# high=[]\n",
        "# low=[]\n",
        "\n",
        "# for j in range (0,1159):\n",
        "#     for i in range (0,381):\n",
        "#      l=not_matched[i]\n",
        "#      low.append(l)\n",
        "#      sum=(not_matched[i])\n",
        "#      high.append(sum)\n",
        "\n",
        "#     ax.axvspan(low[j], high[j], color=\"grey\", alpha=0.3,linestyle='dotted')\n",
        "#     ax.axvspan(1089, 1089, color=\"black\", alpha=.3)\n",
        "#     ax.axvspan(1149, 1149, color=\"red\", alpha=.3)\n",
        "#     ax.axvspan(1159, 1159, color=\"blue\", alpha=.3)"
      ]
    },
    {
      "cell_type": "code",
      "execution_count": null,
      "metadata": {},
      "outputs": [],
      "source": [
        "# fig, ax = plt.subplots(figsize=(20, 2))\n",
        "# ax.plot(phivru)\n",
        "# high=[]\n",
        "# low=[]\n",
        "\n",
        "# for j in range (0,2215):\n",
        "#     for i in range (0,377):\n",
        "#      l=not_matched[i]\n",
        "#      low.append(l)\n",
        "#      sum=(not_matched[i])\n",
        "#      high.append(sum)\n",
        "\n",
        "#     ax.axvspan(low[j], high[j], color=\"grey\", alpha=0.3,linestyle='dotted')\n",
        "#     ax.axvspan(2145, 2145, color=\"black\", alpha=.3)\n",
        "#     ax.axvspan(2207, 2207, color=\"red\", alpha=.3)\n",
        "#     ax.axvspan(2215, 2220, color=\"blue\", alpha=.3)"
      ]
    },
    {
      "cell_type": "code",
      "execution_count": null,
      "metadata": {},
      "outputs": [],
      "source": [
        "# fig, ax = plt.subplots(figsize=(20, 5))\n",
        "# ax.plot(phivr)\n",
        "# high=[]\n",
        "# low=[]\n",
        "\n",
        "# for j in range (0,2015):\n",
        "#     for i in range (0,330):\n",
        "#      l=not_matched[i]\n",
        "#      low.append(l)\n",
        "#      sum=(not_matched[i])\n",
        "#      high.append(sum)\n",
        "\n",
        "#     ax.axvspan(low[j], high[j], color=\"r\", alpha=0.3, linestyle='dotted')\n",
        "#     #ax.axvspan(1968, 1968, color=\"black\", alpha=.3)"
      ]
    },
    {
      "cell_type": "code",
      "execution_count": null,
      "metadata": {},
      "outputs": [],
      "source": [
        "# # milton_99\n",
        "# fig, ax = plt.subplots(figsize=(20, 5))\n",
        "# ax.plot(delay_dxv)\n",
        "# high=[]\n",
        "# low=[]\n",
        "\n",
        "# for j in range (0,3178):\n",
        "#     for i in range (0,1000):\n",
        "#      l=not_matched[i]\n",
        "#      low.append(l)\n",
        "#      sum=(not_matched[i]-1)+1\n",
        "#      high.append(sum)\n",
        "\n",
        "#     ax.axvspan(low[j], high[j], color=\"red\", alpha=0.3)"
      ]
    },
    {
      "cell_type": "code",
      "execution_count": null,
      "metadata": {},
      "outputs": [],
      "source": [
        "# # milton_99\n",
        "# fig, ax = plt.subplots(figsize=(20, 5))\n",
        "# ax.plot(respo_phiv)\n",
        "# high=[]\n",
        "# low=[]\n",
        "\n",
        "# for j in range (0,3178):\n",
        "#     for i in range (0,1000):\n",
        "#      l=not_matched[i]\n",
        "#      low.append(l)\n",
        "#      sum=(not_matched[i]-1)+1\n",
        "#      high.append(sum)\n",
        "\n",
        "#     ax.axvspan(low[j], high[j], color=\"red\", alpha=0.3)"
      ]
    },
    {
      "cell_type": "code",
      "execution_count": null,
      "metadata": {},
      "outputs": [],
      "source": [
        "# fig, ax = plt.subplots(figsize=(20, 5))\n",
        "# ax.plot(feature1_total_flatten[0:1000])\n",
        "# high=[]\n",
        "# low=[]\n",
        "\n",
        "# # for j in range (0,1000):\n",
        "# #     for i in range (0,165):\n",
        "# #      l=(not_matched[i]-1)*128\n",
        "# #      low.append(l)\n",
        "# #      sum=128+l\n",
        "# #      high.append(sum)\n",
        "\n",
        "# ax.axvspan(129,128*2, color=\"blue\", alpha=0.3)\n"
      ]
    },
    {
      "cell_type": "code",
      "execution_count": 75,
      "metadata": {},
      "outputs": [],
      "source": [
        "# fig, ax = plt.subplots(figsize=(20, 5))\n",
        "# ax.plot(feature1_total_flatten[0:2000])\n",
        "# high=[]\n",
        "# low=[]\n",
        "\n",
        "# for j in range (0,4000):\n",
        "#     for i in range (0,5):\n",
        "#      l=(not_matched[i]-1)*128\n",
        "#      low.append(l)\n",
        "#      sum=128+l\n",
        "#      high.append(sum)\n",
        "\n",
        "#     ax.axvspan(low[j], high[j], color=\"red\", alpha=0.3)"
      ]
    },
    {
      "cell_type": "code",
      "execution_count": 449,
      "metadata": {},
      "outputs": [
        {
          "data": {
            "image/png": "[encoded data removed]",
            "text/plain": [
              "<Figure size 576x288 with 1 Axes>"
            ]
          },
          "metadata": {
            "needs_background": "light"
          },
          "output_type": "display_data"
        }
      ],
      "source": [
        "# #aa=[x for x in range(200)]\n",
        "# plt.figure(figsize=(8,4))\n",
        "# plt.plot( test_labels, marker='.', label=\"actual\")\n",
        "# plt.plot(y_prob, 'r', label=\"prediction\")\n",
        "# # plt.tick_params(left=False, labelleft=True) #remove ticks\n",
        "# plt.tight_layout()\n",
        "# sns.despine(top=True)\n",
        "# plt.subplots_adjust(left=0.07)\n",
        "# #plt.ylabel('Global_active_power', size=15)\n",
        "# plt.xlabel('windows', size=15)\n",
        "# plt.legend(fontsize=15)\n",
        "# plt.savefig(\"miltonpred1.png\")\n",
        "plt.show();"
      ]
    },
    {
      "cell_type": "code",
      "execution_count": null,
      "metadata": {},
      "outputs": [],
      "source": [
        "# #aa=[x for x in range(200)]\n",
        "# plt.figure(figsize=(8,4))\n",
        "# plt.plot( test_labels, marker='.', label=\"actual\")\n",
        "# plt.plot(y_out, 'r', label=\"prediction\")\n",
        "# # plt.tick_params(left=False, labelleft=True) #remove ticks\n",
        "# plt.tight_layout()\n",
        "# sns.despine(top=True)\n",
        "# plt.subplots_adjust(left=0.07)\n",
        "# #plt.ylabel('Global_active_power', size=15)\n",
        "# plt.xlabel('Windows', size=15)\n",
        "# plt.legend(fontsize=15)\n",
        "# plt.savefig(\"miltonpred1.png\")\n",
        "# plt.show();"
      ]
    },
    {
      "cell_type": "code",
      "execution_count": null,
      "metadata": {},
      "outputs": [],
      "source": [
        "    # print(\"Model Evaluation Started\")\n",
        "    \n",
        "    # y_prob = tf.sigmoid(model.predict(test_examples))\n",
        "    # y_out = (y_prob > 0.84).numpy().astype(\"int32\")\n",
        "    # #y_out = (y_prob > 0.5).numpy().astype(\"int32\")\n",
        "    # target_names = ['No-Fall', 'Fall']\n",
        "    # report = classification_report(test_labels, y_out, target_names=target_names, zero_division = 0)\n",
        "    \n",
        "    # # with open(f\"{rep_root}/test_report_version_{version_catalog}.txt\",\"w\") as f:\n",
        "    # #     f.write(report)\n",
        "    # print(report)"
      ]
    },
    {
      "cell_type": "code",
      "execution_count": 41,
      "metadata": {},
      "outputs": [
        {
          "data": {
            "image/png": "[encoded data removed]",
            "text/plain": [
              "<Figure size 576x288 with 1 Axes>"
            ]
          },
          "metadata": {
            "needs_background": "light"
          },
          "output_type": "display_data"
        }
      ],
      "source": [
        "# #aa=[x for x in range(200)]\n",
        "# plt.figure(figsize=(8,4))\n",
        "# plt.plot( test_labels, marker='.', label=\"actual\")\n",
        "# plt.plot(y_out, 'r', label=\"prediction\")\n",
        "# # plt.tick_params(left=False, labelleft=True) #remove ticks\n",
        "# plt.tight_layout()\n",
        "# sns.despine(top=True)\n",
        "# plt.subplots_adjust(left=0.07)\n",
        "# #plt.ylabel('Global_active_power', size=15)\n",
        "# plt.xlabel('Time step', size=15)\n",
        "# plt.legend(fontsize=15)\n",
        "# plt.savefig(\"miltonpred1.png\")\n",
        "# plt.show();"
      ]
    },
    {
      "cell_type": "code",
      "execution_count": 59,
      "metadata": {},
      "outputs": [
        {
          "data": {
            "image/png": "[encoded data removed]",
            "text/plain": [
              "<Figure size 576x288 with 1 Axes>"
            ]
          },
          "metadata": {
            "needs_background": "light"
          },
          "output_type": "display_data"
        }
      ],
      "source": [
        "# #aa=[x for x in range(200)]\n",
        "# plt.figure(figsize=(8,4))\n",
        "# plt.plot( test_labels, marker='.', label=\"actual\")\n",
        "# plt.plot(y_out, 'r', label=\"prediction\")\n",
        "# # plt.tick_params(left=False, labelleft=True) #remove ticks\n",
        "# plt.tight_layout()\n",
        "# sns.despine(top=True)\n",
        "# plt.subplots_adjust(left=0.07)\n",
        "# #plt.ylabel('Global_active_power', size=15)\n",
        "# plt.xlabel('Time step', size=15)\n",
        "# plt.legend(fontsize=15)\n",
        "# plt.savefig(\"miltonpred1.png\")\n",
        "# plt.show();"
      ]
    }
  ],
  "metadata": {
    "colab": {
      "name": "prediction_plot.ipynb",
      "provenance": []
    },
    "kernelspec": {
      "display_name": "Python 3.9.7 ('tf_gpu_27')",
      "language": "python",
      "name": "python3"
    },
    "language_info": {
      "codemirror_mode": {
        "name": "ipython",
        "version": 3
      },
      "file_extension": ".py",
      "mimetype": "text/x-python",
      "name": "python",
      "nbconvert_exporter": "python",
      "pygments_lexer": "ipython3",
      "version": "3.9.7"
    },
    "vscode": {
      "interpreter": {
        "hash": "1ea3dc793623f014c9bb8ce0e3bd7d19657e91ab5be10e398374ee9e7e272561"
      }
    }
  },
  "nbformat": 4,
  "nbformat_minor": 0
}

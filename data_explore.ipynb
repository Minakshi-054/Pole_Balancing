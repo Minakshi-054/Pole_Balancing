{
 "cells": [
  {
   "cell_type": "code",
   "execution_count": 1,
   "metadata": {},
   "outputs": [
    {
     "name": "stderr",
     "output_type": "stream",
     "text": [
      "2022-08-31 03:17:12.853331: I tensorflow/stream_executor/platform/default/dso_loader.cc:49] Successfully opened dynamic library libcudart.so.10.1\n"
     ]
    }
   ],
   "source": [
    "import numpy as np\n",
    "from pathlib import Path\n",
    "import tensorflow as tf\n",
    "import sys\n",
    "import os\n",
    "from datetime import datetime\n",
    "\n",
    "from sklearn.metrics import classification_report\n",
    "import numpy as np\n",
    "import plotly.express as px\n",
    "import plotly.graph_objects as go\n",
    "from plotly.subplots import make_subplots\n",
    "from sklearn.metrics import (\n",
    "    auc,\n",
    "    average_precision_score,\n",
    "    precision_recall_curve,\n",
    "    roc_curve,\n",
    ")\n",
    "%matplotlib inline\n",
    "import numpy as np\n",
    "import matplotlib.pyplot as plt\n",
    "import numpy as np\n",
    "from pathlib import Path\n",
    "from tqdm import tqdm\n",
    "from scipy.io import loadmat\n",
    "import random\n",
    "import math\n",
    "from numpy import genfromtxt\n",
    "import resampy\n",
    "import matplotlib.pyplot as plt"
   ]
  },
  {
   "cell_type": "code",
   "execution_count": 2,
   "metadata": {},
   "outputs": [
    {
     "name": "stdout",
     "output_type": "stream",
     "text": [
      "Requirement already satisfied: seaborn in /home/Students/stg60/miniconda3/envs/tf_gpu_27/lib/python3.9/site-packages (0.11.2)\n",
      "Requirement already satisfied: matplotlib>=2.2 in /home/Students/stg60/miniconda3/envs/tf_gpu_27/lib/python3.9/site-packages (from seaborn) (3.5.0)\n",
      "Requirement already satisfied: pandas>=0.23 in /home/Students/stg60/miniconda3/envs/tf_gpu_27/lib/python3.9/site-packages (from seaborn) (1.4.3)\n",
      "Requirement already satisfied: numpy>=1.15 in /home/Students/stg60/miniconda3/envs/tf_gpu_27/lib/python3.9/site-packages (from seaborn) (1.19.5)\n",
      "Requirement already satisfied: scipy>=1.0 in /home/Students/stg60/miniconda3/envs/tf_gpu_27/lib/python3.9/site-packages (from seaborn) (1.7.1)\n",
      "Requirement already satisfied: python-dateutil>=2.7 in /home/Students/stg60/miniconda3/envs/tf_gpu_27/lib/python3.9/site-packages (from matplotlib>=2.2->seaborn) (2.8.2)\n",
      "Requirement already satisfied: kiwisolver>=1.0.1 in /home/Students/stg60/miniconda3/envs/tf_gpu_27/lib/python3.9/site-packages (from matplotlib>=2.2->seaborn) (1.3.2)\n",
      "Requirement already satisfied: pyparsing>=2.2.1 in /home/Students/stg60/miniconda3/envs/tf_gpu_27/lib/python3.9/site-packages (from matplotlib>=2.2->seaborn) (3.0.6)\n",
      "Requirement already satisfied: fonttools>=4.22.0 in /home/Students/stg60/miniconda3/envs/tf_gpu_27/lib/python3.9/site-packages (from matplotlib>=2.2->seaborn) (4.28.3)\n",
      "Requirement already satisfied: packaging>=20.0 in /home/Students/stg60/miniconda3/envs/tf_gpu_27/lib/python3.9/site-packages (from matplotlib>=2.2->seaborn) (21.3)\n",
      "Requirement already satisfied: setuptools-scm>=4 in /home/Students/stg60/miniconda3/envs/tf_gpu_27/lib/python3.9/site-packages (from matplotlib>=2.2->seaborn) (6.3.2)\n",
      "Requirement already satisfied: cycler>=0.10 in /home/Students/stg60/miniconda3/envs/tf_gpu_27/lib/python3.9/site-packages (from matplotlib>=2.2->seaborn) (0.11.0)\n",
      "Requirement already satisfied: pillow>=6.2.0 in /home/Students/stg60/miniconda3/envs/tf_gpu_27/lib/python3.9/site-packages (from matplotlib>=2.2->seaborn) (8.4.0)\n",
      "Requirement already satisfied: pytz>=2020.1 in /home/Students/stg60/miniconda3/envs/tf_gpu_27/lib/python3.9/site-packages (from pandas>=0.23->seaborn) (2021.3)\n",
      "Requirement already satisfied: six>=1.5 in /home/Students/stg60/miniconda3/envs/tf_gpu_27/lib/python3.9/site-packages (from python-dateutil>=2.7->matplotlib>=2.2->seaborn) (1.15.0)\n",
      "Requirement already satisfied: setuptools in /home/Students/stg60/miniconda3/envs/tf_gpu_27/lib/python3.9/site-packages (from setuptools-scm>=4->matplotlib>=2.2->seaborn) (58.0.4)\n",
      "Requirement already satisfied: tomli>=1.0.0 in /home/Students/stg60/miniconda3/envs/tf_gpu_27/lib/python3.9/site-packages (from setuptools-scm>=4->matplotlib>=2.2->seaborn) (1.2.2)\n"
     ]
    }
   ],
   "source": [
    "!pip install seaborn"
   ]
  },
  {
   "cell_type": "code",
   "execution_count": 3,
   "metadata": {},
   "outputs": [],
   "source": [
    "import matplotlib.pyplot as plt\n",
    "import seaborn as sns"
   ]
  },
  {
   "cell_type": "code",
   "execution_count": 4,
   "metadata": {},
   "outputs": [],
   "source": [
    "data_root = Path(\"/data/stg60/milton_plotdata\")\n",
    "#data_milton_par = Path(\"/data/stg60/milton_plotdata/Milton_for_parameter_est/\")\n",
    "data_milton_par = Path(\"/data/stg60/milton_plotdata/test/FS_Milton0100.tsv\")\n",
    "data_milton_pred=Path(\"/data/stg60/milton_plotdata/Milton_for_prediction/\")"
   ]
  },
  {
   "cell_type": "code",
   "execution_count": 39,
   "metadata": {},
   "outputs": [],
   "source": [
    "def strides(a, L = 128, S=1):  # Window len = L, Stride len/stepsize = S\n",
    "    tolist = False\n",
    "    if isinstance(a, list):\n",
    "        tolist = True\n",
    "        a = np.array(a)\n",
    "    if S is None:\n",
    "        S = math.ceil(a.size/10)\n",
    "    nrows = ((a.size - L) // S) + 1\n",
    "    n = a.strides[0]\n",
    "    windows = np.lib.stride_tricks.as_strided(a, shape=(nrows, L), strides=(S * n, n))\n",
    "    \n",
    "    if tolist:\n",
    "        windows = windows.tolist()\n",
    "    return windows\n",
    "def read_tsv(tsv, start_index = 1024, end_index = None, scale = True):\n",
    "    dat = genfromtxt(tsv, delimiter='\\t')\n",
    "    x1,x2,x3,x4,x5,x6 = np.hsplit(dat,6)\n",
    "    ell_1=((x1-x4)**2+(x2-x5)**2+(x3-x6)**2)**0.5 + 1e-10\n",
    "    ang_sin_x_1=(x1-x4)/ell_1\n",
    "    phi =np.arcsin(ang_sin_x_1)*180/np.pi\n",
    "    phi = phi.reshape(-1)[start_index:end_index]\n",
    "    x1 = x1.reshape(-1)[start_index:end_index]\n",
    "    phi = resampy.resample(phi, sr_orig = 250, sr_new = 100)\n",
    "    x1 = resampy.resample(x1, sr_orig = 250, sr_new = 100)\n",
    "    if scale:\n",
    "        phi = phi/20\n",
    "        x1 = x1/0.335\n",
    "    return phi, x1\n",
    "def prepareData(path, cutoff = 128, delay = 23, L = 128, timetopredict = 1.96, samplingrate = 100, fall_stride = 1, start_index = 1024, end_index = None, scale = True):\n",
    "    \"\"\"AI is creating summary for prepareData\n",
    "\n",
    "    Args:\n",
    "        path ([Str]): [path to the original file]\n",
    "        cutoff (int, optional): [description]. Defaults to 128.\n",
    "        delay (int, optional): [description]. Defaults to 23.\n",
    "        L (int, optional): [Window size]. Defaults to 128.\n",
    "        timetopredict (float, optional): [description]. Defaults to 1.96.\n",
    "        samplingrate (int, optional): [description]. Defaults to 100.\n",
    "        fall_stride (int, optional): [description]. Defaults to 1.\n",
    "        start_index (int, optional): [description]. Defaults to 1024.\n",
    "        end_index ([type], optional): [description]. Defaults to None.\n",
    "        scale (bool, optional): [description]. Defaults to True.\n",
    "    Returns:\n",
    "        [type]: [description]\n",
    "\n",
    "    Yields:\n",
    "        [type]: [description]\n",
    "    \"\"\"\n",
    "    # timetopredict in seconds, note 1 point = 0.01 seconds, or 100points = 1seconds\n",
    "    def disect(*args, separator = None):\n",
    "        for arg in args:\n",
    "            nofall, fall = arg[:-separator], arg[-separator:]\n",
    "            yield (nofall, fall)\n",
    "    \n",
    "    # if path.suffix == \".mat\":    \n",
    "    #     if not isinstance(path, str):\n",
    "    #         path = path.as_posix()\n",
    "    #     mat = loadmat(path)\n",
    "    #     phiv = mat['phiv'].reshape(-1)\n",
    "    #     dxv = mat['dxv'].reshape(-1)\n",
    "    #     if scale:\n",
    "    #         phiv = phiv/20\n",
    "    #         dxv = dxv/0.335\n",
    "    # elif path.suffix == \".tsv\":\n",
    "    phiv, dxv = read_tsv(data_milton_par, start_index = start_index, end_index=end_index)\n",
    "\n",
    "    phiv = phiv[:-cutoff]\n",
    "    dxv = dxv[:-cutoff]\n",
    "\n",
    "    #phiv -> delay, respo\n",
    "    delay_phiv = phiv[delay:]\n",
    "    respo_phiv = phiv[:-delay]\n",
    "\n",
    "    #dxv -> delay, respo\n",
    "    delay_dxv = dxv[delay:]\n",
    "    respo_dxv = dxv[:-delay]\n",
    "\n",
    "    #fall region\n",
    "    fall_region = L + int(timetopredict*samplingrate)\n",
    "    [(n_delay_phiv, f_delay_phiv), (n_respo_phiv, f_respo_phiv)] = disect(delay_phiv, respo_phiv, separator=fall_region)\n",
    "    [(n_delay_dxv, f_delay_dxv), (n_respo_dxv, f_respo_dxv)] = disect(delay_dxv, respo_dxv, separator=fall_region)\n",
    "\n",
    "    if n_delay_phiv.size < f_delay_phiv.size:\n",
    "        S = 1\n",
    "    else:\n",
    "        S = math.ceil((n_delay_phiv.size - f_delay_phiv.size)/(timetopredict*samplingrate+1))\n",
    "\n",
    "    #s=1 for imbalanced\n",
    "    # no_fall_windows\n",
    "    n_delay_phiv = strides(n_delay_phiv, L = L, S = S)\n",
    "    n_respo_phiv = strides(n_respo_phiv, L = L, S = S)\n",
    "    n_delay_dxv = strides(n_delay_dxv, L = L, S = S)\n",
    "    n_respo_dxv = strides(n_respo_dxv, L = L, S = S)\n",
    "\n",
    "    # fall_windows\n",
    "    f_delay_phiv = strides(f_delay_phiv, L = L, S = fall_stride)\n",
    "    f_respo_phiv = strides(f_respo_phiv, L = L, S = fall_stride)\n",
    "    f_delay_dxv = strides(f_delay_dxv, L = L, S = fall_stride)\n",
    "    f_respo_dxv = strides(f_respo_dxv, L = L, S = fall_stride)\n",
    "\n",
    "    # concatenate features\n",
    "    n_x = np.stack((n_delay_phiv,n_respo_phiv,n_delay_dxv,n_respo_dxv), -1)\n",
    "    f_x = np.stack((f_delay_phiv,f_respo_phiv,f_delay_dxv,f_respo_dxv), -1)\n",
    "\n",
    "    n_y = np.zeros(n_x.shape[0]).reshape(-1,1)\n",
    "    f_y = np.ones(f_x.shape[0]).reshape(-1,1)\n",
    "\n",
    "    x = np.concatenate((n_x,f_x), 0)\n",
    "    y = np.concatenate((n_y,f_y), 0)\n",
    "\n",
    "    return x, y, S,n_delay_phiv,n_respo_phiv,n_delay_dxv,n_respo_dxv,f_delay_phiv,f_respo_phiv,f_delay_dxv,f_respo_dxv,phiv\n",
    "    #return x,y,S"
   ]
  },
  {
   "cell_type": "code",
   "execution_count": 40,
   "metadata": {},
   "outputs": [],
   "source": [
    "x, y, S,n_delay_phiv,n_respo_phiv,n_delay_dxv,n_respo_dxv,f_delay_phiv,f_respo_phiv,f_delay_dxv,f_respo_dxv,phiv = prepareData(data_milton_par, cutoff = 128, delay = 23, L = 128, timetopredict = 1.96, samplingrate = 100, fall_stride = 1, start_index = 1024, end_index = None)\n",
    "#x, y, S = prepareData(data_milton_par, cutoff = 128, delay = 23, L = 128, timetopredict = 1.96, samplingrate = 100, fall_stride = 1, start_index = 1024, end_index = None)"
   ]
  },
  {
   "cell_type": "code",
   "execution_count": 32,
   "metadata": {},
   "outputs": [
    {
     "data": {
      "text/plain": [
       "207"
      ]
     },
     "execution_count": 32,
     "metadata": {},
     "output_type": "execute_result"
    }
   ],
   "source": [
    "len(n_delay_phiv)"
   ]
  },
  {
   "cell_type": "code",
   "execution_count": 29,
   "metadata": {},
   "outputs": [
    {
     "data": {
      "text/plain": [
       "2811"
      ]
     },
     "execution_count": 29,
     "metadata": {},
     "output_type": "execute_result"
    }
   ],
   "source": [
    "len(n_delay_phiv)"
   ]
  },
  {
   "cell_type": "code",
   "execution_count": 15,
   "metadata": {},
   "outputs": [
    {
     "data": {
      "text/plain": [
       "324"
      ]
     },
     "execution_count": 15,
     "metadata": {},
     "output_type": "execute_result"
    }
   ],
   "source": [
    "len(f_respo_dxv)"
   ]
  },
  {
   "cell_type": "code",
   "execution_count": 33,
   "metadata": {},
   "outputs": [
    {
     "data": {
      "text/plain": [
       "197"
      ]
     },
     "execution_count": 33,
     "metadata": {},
     "output_type": "execute_result"
    }
   ],
   "source": [
    "len(f_respo_dxv)"
   ]
  },
  {
   "cell_type": "code",
   "execution_count": 38,
   "metadata": {},
   "outputs": [
    {
     "data": {
      "text/plain": [
       "574.9806103586961"
      ]
     },
     "execution_count": 38,
     "metadata": {},
     "output_type": "execute_result"
    }
   ],
   "source": [
    "np.max(abs(x))"
   ]
  },
  {
   "cell_type": "code",
   "execution_count": 30,
   "metadata": {},
   "outputs": [
    {
     "data": {
      "text/plain": [
       "197"
      ]
     },
     "execution_count": 30,
     "metadata": {},
     "output_type": "execute_result"
    }
   ],
   "source": [
    "len(f_delay_phiv)"
   ]
  },
  {
   "cell_type": "code",
   "execution_count": 36,
   "metadata": {},
   "outputs": [
    {
     "data": {
      "text/plain": [
       "404"
      ]
     },
     "execution_count": 36,
     "metadata": {},
     "output_type": "execute_result"
    }
   ],
   "source": [
    "len(x)"
   ]
  },
  {
   "cell_type": "code",
   "execution_count": 41,
   "metadata": {},
   "outputs": [
    {
     "data": {
      "text/plain": [
       "[<matplotlib.lines.Line2D at 0x7f4657c49f40>]"
      ]
     },
     "execution_count": 41,
     "metadata": {},
     "output_type": "execute_result"
    },
    {
     "data": {
      "image/png": "[encoded data removed]",
      "text/plain": [
       "<Figure size 432x288 with 1 Axes>"
      ]
     },
     "metadata": {
      "needs_background": "light"
     },
     "output_type": "display_data"
    }
   ],
   "source": [
    "plt.plot(phiv[1:129])"
   ]
  }
 ],
 "metadata": {
  "kernelspec": {
   "display_name": "Python 3.9.7 ('tf_gpu_27')",
   "language": "python",
   "name": "python3"
  },
  "language_info": {
   "codemirror_mode": {
    "name": "ipython",
    "version": 3
   },
   "file_extension": ".py",
   "mimetype": "text/x-python",
   "name": "python",
   "nbconvert_exporter": "python",
   "pygments_lexer": "ipython3",
   "version": "3.9.7"
  },
  "orig_nbformat": 4,
  "vscode": {
   "interpreter": {
    "hash": "1ea3dc793623f014c9bb8ce0e3bd7d19657e91ab5be10e398374ee9e7e272561"
   }
  }
 },
 "nbformat": 4,
 "nbformat_minor": 2
}

{
 "cells": [
  {
   "cell_type": "code",
   "execution_count": 42,
   "metadata": {},
   "outputs": [],
   "source": [
    "import numpy as np\n",
    "from pathlib import Path\n",
    "from tqdm import tqdm\n",
    "from scipy.io import loadmat\n",
    "import random\n",
    "import math\n",
    "from numpy import genfromtxt\n",
    "import resampy\n",
    "import matplotlib.pyplot as plt\n",
    "import pandas as pd"
   ]
  },
  {
   "cell_type": "code",
   "execution_count": 2,
   "metadata": {},
   "outputs": [],
   "source": [
    "# this is not where the data is, but where we will save the process\n",
    "data_root = Path(\"/data/stg60/new_realdata/version_1/\")\n",
    "data_milton_par = Path(\"/data/stg60/new_realdata/MoreMilton/\")\n",
    "data_milton_pred = Path(\"/data/stg60/new_realdata/moreMIltonTest/\")"
   ]
  },
  {
   "cell_type": "code",
   "execution_count": 3,
   "metadata": {},
   "outputs": [],
   "source": [
    "def read_tsv(tsv, start_index = 1024, end_index = None, scale = True):\n",
    "    dat = genfromtxt(tsv, delimiter='\\t')\n",
    "    x1,x2,x3,x4,x5,x6 = np.hsplit(dat,6)\n",
    "    #ell_1=((x1-x4)**2+(x2-x5)**2+(x3-x6)**2)**0.5 + 1e-10\n",
    "    ell_1=((x1-x4)**2+(x3-x6)**2)**0.5 + 1e-10\n",
    "    ang_sin_x_1=(x1-x4)/ell_1\n",
    "    phi =np.arcsin(ang_sin_x_1)*180/np.pi\n",
    "    phi = phi.reshape(-1)[start_index:end_index]\n",
    "    x1 = x4.reshape(-1)[start_index:end_index]\n",
    "    phi = resampy.resample(phi, sr_orig = 250, sr_new = 100)\n",
    "    x1 = resampy.resample(x1, sr_orig = 250, sr_new = 100)\n",
    "    if scale:\n",
    "        #phi = phi/20\n",
    "        phi = phi/1\n",
    "        #x1 = x1/0.335\n",
    "        x1 = x1/1\n",
    "    return phi, x1"
   ]
  },
  {
   "cell_type": "code",
   "execution_count": 14,
   "metadata": {},
   "outputs": [],
   "source": [
    "data_path_list = sorted(data_milton_par.glob('*.tsv'))"
   ]
  },
  {
   "cell_type": "code",
   "execution_count": 15,
   "metadata": {},
   "outputs": [
    {
     "data": {
      "text/plain": [
       "24"
      ]
     },
     "execution_count": 15,
     "metadata": {},
     "output_type": "execute_result"
    }
   ],
   "source": [
    "len(data_path_list)"
   ]
  },
  {
   "cell_type": "code",
   "execution_count": 26,
   "metadata": {},
   "outputs": [
    {
     "name": "stderr",
     "output_type": "stream",
     "text": [
      "100%|██████████| 24/24 [00:00<00:00, 25.09it/s]\n"
     ]
    }
   ],
   "source": [
    "phisum=[]\n",
    "x1sum=[]\n",
    "for x in tqdm(data_path_list):\n",
    "    phi,x1 = read_tsv(x)\n",
    "    phisum.append(phi)\n",
    "    x1sum.append(x1)"
   ]
  },
  {
   "cell_type": "code",
   "execution_count": 39,
   "metadata": {},
   "outputs": [],
   "source": [
    "concatphi = np.concatenate(phisum)\n",
    "concatx1 = np.concatenate(x1sum)"
   ]
  },
  {
   "cell_type": "code",
   "execution_count": 38,
   "metadata": {},
   "outputs": [
    {
     "data": {
      "text/plain": [
       "(58988,)"
      ]
     },
     "execution_count": 38,
     "metadata": {},
     "output_type": "execute_result"
    }
   ],
   "source": [
    "concatphi.shape"
   ]
  },
  {
   "cell_type": "code",
   "execution_count": 40,
   "metadata": {},
   "outputs": [
    {
     "data": {
      "text/plain": [
       "(58988,)"
      ]
     },
     "execution_count": 40,
     "metadata": {},
     "output_type": "execute_result"
    }
   ],
   "source": [
    "concatx1.shape"
   ]
  },
  {
   "cell_type": "code",
   "execution_count": 41,
   "metadata": {},
   "outputs": [],
   "source": [
    "data = {'phi1': concatphi,\n",
    "        'x1': concatx1,\n",
    "        }"
   ]
  },
  {
   "cell_type": "code",
   "execution_count": 43,
   "metadata": {},
   "outputs": [],
   "source": [
    "df = pd.DataFrame(data)"
   ]
  },
  {
   "cell_type": "code",
   "execution_count": 44,
   "metadata": {},
   "outputs": [
    {
     "data": {
      "text/html": [
       "<div>\n",
       "<style scoped>\n",
       "    .dataframe tbody tr th:only-of-type {\n",
       "        vertical-align: middle;\n",
       "    }\n",
       "\n",
       "    .dataframe tbody tr th {\n",
       "        vertical-align: top;\n",
       "    }\n",
       "\n",
       "    .dataframe thead th {\n",
       "        text-align: right;\n",
       "    }\n",
       "</style>\n",
       "<table border=\"1\" class=\"dataframe\">\n",
       "  <thead>\n",
       "    <tr style=\"text-align: right;\">\n",
       "      <th></th>\n",
       "      <th>phi1</th>\n",
       "      <th>x1</th>\n",
       "    </tr>\n",
       "  </thead>\n",
       "  <tbody>\n",
       "    <tr>\n",
       "      <th>0</th>\n",
       "      <td>1.439641</td>\n",
       "      <td>-38.407676</td>\n",
       "    </tr>\n",
       "    <tr>\n",
       "      <th>1</th>\n",
       "      <td>1.783142</td>\n",
       "      <td>-55.564236</td>\n",
       "    </tr>\n",
       "    <tr>\n",
       "      <th>2</th>\n",
       "      <td>0.892843</td>\n",
       "      <td>-41.750713</td>\n",
       "    </tr>\n",
       "    <tr>\n",
       "      <th>3</th>\n",
       "      <td>0.522156</td>\n",
       "      <td>-40.698079</td>\n",
       "    </tr>\n",
       "    <tr>\n",
       "      <th>4</th>\n",
       "      <td>-0.124227</td>\n",
       "      <td>-31.621018</td>\n",
       "    </tr>\n",
       "  </tbody>\n",
       "</table>\n",
       "</div>"
      ],
      "text/plain": [
       "       phi1         x1\n",
       "0  1.439641 -38.407676\n",
       "1  1.783142 -55.564236\n",
       "2  0.892843 -41.750713\n",
       "3  0.522156 -40.698079\n",
       "4 -0.124227 -31.621018"
      ]
     },
     "execution_count": 44,
     "metadata": {},
     "output_type": "execute_result"
    }
   ],
   "source": [
    "df.head()"
   ]
  },
  {
   "cell_type": "code",
   "execution_count": null,
   "metadata": {},
   "outputs": [],
   "source": [
    "df.to_csv('output_real.csv', index=False)"
   ]
  }
 ],
 "metadata": {
  "kernelspec": {
   "display_name": "tf_gpu_27",
   "language": "python",
   "name": "python3"
  },
  "language_info": {
   "codemirror_mode": {
    "name": "ipython",
    "version": 3
   },
   "file_extension": ".py",
   "mimetype": "text/x-python",
   "name": "python",
   "nbconvert_exporter": "python",
   "pygments_lexer": "ipython3",
   "version": "3.9.7"
  },
  "orig_nbformat": 4
 },
 "nbformat": 4,
 "nbformat_minor": 2
}

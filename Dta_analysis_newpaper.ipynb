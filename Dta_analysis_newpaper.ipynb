{
 "cells": [
  {
   "cell_type": "code",
   "execution_count": 2,
   "metadata": {},
   "outputs": [],
   "source": [
    "import numpy as np\n",
    "from pathlib import Path\n",
    "import tensorflow as tf\n",
    "import sys\n",
    "import os\n",
    "from datetime import datetime\n",
    "\n",
    "from sklearn.metrics import classification_report\n",
    "import numpy as np\n",
    "import plotly.express as px\n",
    "import plotly.graph_objects as go\n",
    "from plotly.subplots import make_subplots\n",
    "from sklearn.metrics import (\n",
    "    auc,\n",
    "    average_precision_score,\n",
    "    precision_recall_curve,\n",
    "    roc_curve,\n",
    ")\n",
    "from sklearn.metrics import ConfusionMatrixDisplay\n",
    "from sklearn import metrics\n"
   ]
  },
  {
   "cell_type": "code",
   "execution_count": 3,
   "metadata": {},
   "outputs": [],
   "source": [
    "%matplotlib inline\n",
    "import numpy as np\n",
    "import matplotlib.pyplot as plt\n",
    "import numpy as np\n",
    "from pathlib import Path\n",
    "from tqdm import tqdm\n",
    "from scipy.io import loadmat\n",
    "import random\n",
    "import math\n",
    "from numpy import genfromtxt\n",
    "import resampy\n",
    "import matplotlib.pyplot as plt"
   ]
  },
  {
   "cell_type": "code",
   "execution_count": 4,
   "metadata": {},
   "outputs": [
    {
     "name": "stdout",
     "output_type": "stream",
     "text": [
      "Requirement already satisfied: seaborn in /home/Students/stg60/miniconda3/envs/tf_gpu_27/lib/python3.9/site-packages (0.11.2)\n",
      "Requirement already satisfied: pandas>=0.23 in /home/Students/stg60/miniconda3/envs/tf_gpu_27/lib/python3.9/site-packages (from seaborn) (1.4.3)\n",
      "Requirement already satisfied: numpy>=1.15 in /home/Students/stg60/miniconda3/envs/tf_gpu_27/lib/python3.9/site-packages (from seaborn) (1.19.5)\n",
      "Requirement already satisfied: scipy>=1.0 in /home/Students/stg60/miniconda3/envs/tf_gpu_27/lib/python3.9/site-packages (from seaborn) (1.7.1)\n",
      "Requirement already satisfied: matplotlib>=2.2 in /home/Students/stg60/miniconda3/envs/tf_gpu_27/lib/python3.9/site-packages (from seaborn) (3.5.0)\n",
      "Requirement already satisfied: python-dateutil>=2.7 in /home/Students/stg60/miniconda3/envs/tf_gpu_27/lib/python3.9/site-packages (from matplotlib>=2.2->seaborn) (2.8.2)\n",
      "Requirement already satisfied: pillow>=6.2.0 in /home/Students/stg60/miniconda3/envs/tf_gpu_27/lib/python3.9/site-packages (from matplotlib>=2.2->seaborn) (8.4.0)\n",
      "Requirement already satisfied: cycler>=0.10 in /home/Students/stg60/miniconda3/envs/tf_gpu_27/lib/python3.9/site-packages (from matplotlib>=2.2->seaborn) (0.11.0)\n",
      "Requirement already satisfied: kiwisolver>=1.0.1 in /home/Students/stg60/miniconda3/envs/tf_gpu_27/lib/python3.9/site-packages (from matplotlib>=2.2->seaborn) (1.3.2)\n",
      "Requirement already satisfied: setuptools-scm>=4 in /home/Students/stg60/miniconda3/envs/tf_gpu_27/lib/python3.9/site-packages (from matplotlib>=2.2->seaborn) (6.3.2)\n",
      "Requirement already satisfied: packaging>=20.0 in /home/Students/stg60/miniconda3/envs/tf_gpu_27/lib/python3.9/site-packages (from matplotlib>=2.2->seaborn) (21.3)\n",
      "Requirement already satisfied: pyparsing>=2.2.1 in /home/Students/stg60/miniconda3/envs/tf_gpu_27/lib/python3.9/site-packages (from matplotlib>=2.2->seaborn) (3.0.6)\n",
      "Requirement already satisfied: fonttools>=4.22.0 in /home/Students/stg60/miniconda3/envs/tf_gpu_27/lib/python3.9/site-packages (from matplotlib>=2.2->seaborn) (4.28.3)\n",
      "Requirement already satisfied: pytz>=2020.1 in /home/Students/stg60/miniconda3/envs/tf_gpu_27/lib/python3.9/site-packages (from pandas>=0.23->seaborn) (2021.3)\n",
      "Requirement already satisfied: six>=1.5 in /home/Students/stg60/miniconda3/envs/tf_gpu_27/lib/python3.9/site-packages (from python-dateutil>=2.7->matplotlib>=2.2->seaborn) (1.15.0)\n",
      "Requirement already satisfied: setuptools in /home/Students/stg60/miniconda3/envs/tf_gpu_27/lib/python3.9/site-packages (from setuptools-scm>=4->matplotlib>=2.2->seaborn) (58.0.4)\n",
      "Requirement already satisfied: tomli>=1.0.0 in /home/Students/stg60/miniconda3/envs/tf_gpu_27/lib/python3.9/site-packages (from setuptools-scm>=4->matplotlib>=2.2->seaborn) (1.2.2)\n"
     ]
    }
   ],
   "source": [
    "!pip install seaborn"
   ]
  },
  {
   "cell_type": "code",
   "execution_count": 5,
   "metadata": {},
   "outputs": [],
   "source": [
    "import matplotlib.pyplot as plt\n",
    "import seaborn as sns"
   ]
  },
  {
   "cell_type": "code",
   "execution_count": 7,
   "metadata": {},
   "outputs": [],
   "source": [
    "data_root = Path(\"/data/stg60/milton_plotdata/test/\")\n",
    "data_milton_par = Path(\"/data/stg60/milton_plotdata/Milton_for_parameter_est/\") \n",
    "data_milton_pred=Path(\"/data/stg60/milton_plotdata/Milton_for_prediction/\")"
   ]
  },
  {
   "cell_type": "code",
   "execution_count": 8,
   "metadata": {},
   "outputs": [],
   "source": [
    "def strides(a, L = 128, S=1):  # Window len = L, Stride len/stepsize = S\n",
    "    tolist = False\n",
    "    if isinstance(a, list):\n",
    "        tolist = True\n",
    "        a = np.array(a)\n",
    "    if S is None:\n",
    "        S = math.ceil(a.size/10)\n",
    "    nrows = ((a.size - L) // S) + 1\n",
    "    n = a.strides[0]\n",
    "    #print(n)\n",
    "    windows = np.lib.stride_tricks.as_strided(a, shape=(nrows, L), strides=(S * n, n))\n",
    "    \n",
    "    if tolist:\n",
    "        windows = windows.tolist()\n",
    "    return windows\n",
    "def read_tsv(tsv, start_index = 1024, end_index = None, scale = True):\n",
    "    dat = genfromtxt(tsv, delimiter='\\t')\n",
    "    x1,x2,x3,x4,x5,x6 = np.hsplit(dat,6)\n",
    "    ell_1=((x1-x4)**2+(x2-x5)**2+(x3-x6)**2)**0.5 + 1e-10\n",
    "    ang_sin_x_1=(x1-x4)/ell_1\n",
    "    phi =np.arcsin(ang_sin_x_1)*180/np.pi\n",
    "    phi = phi.reshape(-1)[start_index:end_index]\n",
    "    x1 = x1.reshape(-1)[start_index:end_index]\n",
    "    phi = resampy.resample(phi, sr_orig = 250, sr_new = 100)\n",
    "    x1 = resampy.resample(x1, sr_orig = 250, sr_new = 100)\n",
    "    if scale:\n",
    "        phi = phi/20\n",
    "        x1 = x1/0.335\n",
    "    return phi, x1\n",
    "def prepareData(path, cutoff = 128, delay = 23, L = 128, timetopredict = 1.96, samplingrate = 100, fall_stride = 1, start_index = 1024, end_index = None, scale = True):\n",
    "    \"\"\"AI is creating summary for prepareData\n",
    "\n",
    "    Args:\n",
    "        path ([Str]): [path to the original file]\n",
    "        cutoff (int, optional): [description]. Defaults to 128.\n",
    "        delay (int, optional): [description]. Defaults to 23.\n",
    "        L (int, optional): [Window size]. Defaults to 128.\n",
    "        timetopredict (float, optional): [description]. Defaults to 1.96.\n",
    "        samplingrate (int, optional): [description]. Defaults to 100.\n",
    "        fall_stride (int, optional): [description]. Defaults to 1.\n",
    "        start_index (int, optional): [description]. Defaults to 1024.\n",
    "        end_index ([type], optional): [description]. Defaults to None.\n",
    "        scale (bool, optional): [description]. Defaults to True.\n",
    "    Returns:\n",
    "        [type]: [description]\n",
    "\n",
    "    Yields:\n",
    "        [type]: [description]\n",
    "    \"\"\"\n",
    "    # timetopredict in seconds, note 1 point = 0.01 seconds, or 100points = 1seconds\n",
    "    def disect(*args, separator = None):\n",
    "        for arg in args:\n",
    "            nofall, fall = arg[:-separator], arg[-separator:]\n",
    "            yield (nofall, fall)\n",
    "    \n",
    "    if path.suffix == \".mat\":    \n",
    "        if not isinstance(path, str):\n",
    "            path = path.as_posix()\n",
    "        mat = loadmat(path)\n",
    "        phiv = mat['phiv'].reshape(-1)\n",
    "        dxv = mat['dxv'].reshape(-1)\n",
    "        if scale:\n",
    "            phiv = phiv/20\n",
    "            dxv = dxv/0.335\n",
    "    elif path.suffix == \".tsv\":\n",
    "        phiv, dxv = read_tsv(path, start_index = start_index, end_index=end_index)\n",
    "  \n",
    "    phiv = phiv[:-cutoff]\n",
    "    dxv = dxv[:-cutoff]\n",
    "\n",
    "    #phiv -> delay, respo\n",
    "    delay_phiv = phiv[delay:]\n",
    "    respo_phiv = phiv[:-delay]\n",
    "\n",
    "    #dxv -> delay, respo\n",
    "    delay_dxv = dxv[delay:]\n",
    "    respo_dxv = dxv[:-delay]\n",
    "\n",
    "    #fall region\n",
    "    fall_region = L + int(timetopredict*samplingrate)\n",
    "    [(n_delay_phiv, f_delay_phiv), (n_respo_phiv, f_respo_phiv)] = disect(delay_phiv, respo_phiv, separator=fall_region)\n",
    "    [(n_delay_dxv, f_delay_dxv), (n_respo_dxv, f_respo_dxv)] = disect(delay_dxv, respo_dxv, separator=fall_region)\n",
    "\n",
    "    if n_delay_phiv.size < f_delay_phiv.size:\n",
    "        S = 1\n",
    "    else:\n",
    "        S = math.ceil((n_delay_phiv.size - f_delay_phiv.size)/(timetopredict*samplingrate+1))\n",
    "\n",
    "    #s=1 for imbalanced\n",
    "    # no_fall_windows(imbalanced)\n",
    "    n_delay_phiv = strides(n_delay_phiv, L = L, S = 1)\n",
    "    n_respo_phiv = strides(n_respo_phiv, L = L, S = 1)\n",
    "    n_delay_dxv = strides(n_delay_dxv, L = L, S = 1)\n",
    "    n_respo_dxv = strides(n_respo_dxv, L = L, S = 1)\n",
    "\n",
    "    # fall_windows\n",
    "    f_delay_phiv = strides(f_delay_phiv, L = L, S = fall_stride)\n",
    "    #f_delay_phiv1 = strides(f_delay_phiv, L = L, S = fall_stride)\n",
    "    f_respo_phiv = strides(f_respo_phiv, L = L, S = fall_stride)\n",
    "    f_delay_dxv = strides(f_delay_dxv, L = L, S = fall_stride)\n",
    "    f_respo_dxv = strides(f_respo_dxv, L = L, S = fall_stride)\n",
    "\n",
    "    # concatenate features\n",
    "    n_x = np.stack((n_delay_phiv,n_respo_phiv,n_delay_dxv,n_respo_dxv), -1)\n",
    "    f_x = np.stack((f_delay_phiv,f_respo_phiv,f_delay_dxv,f_respo_dxv), -1)\n",
    "\n",
    "    n_y = np.zeros(n_x.shape[0]).reshape(-1,1)\n",
    "    f_y = np.ones(f_x.shape[0]).reshape(-1,1)\n",
    "\n",
    "    x = np.concatenate((n_x,f_x), 0)\n",
    "    y = np.concatenate((n_y,f_y), 0)\n",
    "\n",
    "    return x, y, S"
   ]
  },
  {
   "cell_type": "code",
   "execution_count": 9,
   "metadata": {},
   "outputs": [],
   "source": [
    "def getOneHugeArray(path_list, start_index_list = None, end_index_list = None):\n",
    "    datax = []\n",
    "    datay = []\n",
    "    if start_index_list is None and end_index_list is None:    \n",
    "        for path in tqdm(path_list):\n",
    "            x,y,_= prepareData(path, cutoff = 128, delay = 23, L = 128, timetopredict = 1.96, samplingrate = 100, fall_stride = 1)\n",
    "            datax.append(x)\n",
    "            datay.append(y)\n",
    "    else:\n",
    "        for path, start_index, end_index in tqdm(zip(path_list, start_index_list, end_index_list)):\n",
    "            x,y,_= prepareData(path, cutoff = 128, delay = 23, L = 128, timetopredict = 1.96, samplingrate = 100, fall_stride = 1, start_index = start_index, end_index = end_index)\n",
    "            datax.append(x)\n",
    "            datay.append(y)\n",
    "    x = np.concatenate(datax)    \n",
    "    y = np.concatenate(datay)\n",
    "\n",
    "    return x, y\n",
    "def create_Real_Data(data_path_list, mode = \"pred\"):\n",
    "    phi_data=[]\n",
    "    data_path_list = sorted(data_path_list.glob('*.tsv'))\n",
    "    start_index_list = [1024]*len(data_path_list)\n",
    "    end_index_list = [None]*len(data_path_list)\n",
    "    for x in tqdm(data_path_list):\n",
    "        phi,dxv = read_tsv(x)\n",
    "        phi_data.append(phi)\n",
    "        plt.figure(figsize=(20,5))\n",
    "        plt.plot(phi, label = x.name)\n",
    "    plt.legend()\n",
    "    plt.savefig(f\"plots_{mode}.png\")\n",
    "\n",
    "    x, y= getOneHugeArray(data_path_list, start_index_list = start_index_list, end_index_list = end_index_list)\n",
    "    # print(x)\n",
    "    # print(\"break\")\n",
    "    # print(y)\n",
    "    # # print(x[204])\n",
    "    # print(\"break\")\n",
    "    # print(y[207])\n",
    "    \n",
    "    \n",
    "    print(x.shape, y.shape, y.sum()/y.size)\n",
    "    np.savez(data_root/f\"{mode}.npz\", x = x, y = y)\n",
    "    return x,y,phi,dxv"
   ]
  },
  {
   "cell_type": "code",
   "execution_count": 42,
   "metadata": {},
   "outputs": [],
   "source": [
    "def getAllMats(path = \"/data/stg60/milton_plotdata/test/\", sample = None, filter_required = True, L = 128, timetopredict = 1.96, samplingrate = 100):\n",
    "    maxsize = int(timetopredict*samplingrate) + L*4 + 1\n",
    "    data = sorted(Path(path).glob(\"milton*.mat\"))\n",
    "    if sample:\n",
    "        data = random.sample(data, sample)\n",
    "    if filter_required:\n",
    "        data = list(filter(lambda x:loadmat(x)['phiv'].max()>20 and loadmat(x)['phiv'].size>maxsize, data))\n",
    "        print(data)\n",
    "    return data"
   ]
  },
  {
   "cell_type": "code",
   "execution_count": 43,
   "metadata": {},
   "outputs": [
    {
     "name": "stdout",
     "output_type": "stream",
     "text": [
      "[PosixPath('/data/stg60/milton_plotdata/test/milton_sim_0000000993.mat')]\n",
      "The sampled sim_path_list is  1\n"
     ]
    }
   ],
   "source": [
    "sim_path_list = getAllMats(sample=None)\n",
    "print(\"The sampled sim_path_list is \", len(sim_path_list))"
   ]
  },
  {
   "cell_type": "code",
   "execution_count": 45,
   "metadata": {},
   "outputs": [
    {
     "name": "stderr",
     "output_type": "stream",
     "text": [
      "100%|██████████| 1/1 [00:00<00:00, 47.18it/s]"
     ]
    },
    {
     "name": "stdout",
     "output_type": "stream",
     "text": [
      "The shape of xtrain is (2271, 128, 4), the ratio of fall/nofall : 0.08674592690444738\n"
     ]
    },
    {
     "name": "stderr",
     "output_type": "stream",
     "text": [
      "\n"
     ]
    }
   ],
   "source": [
    "xtest, ytest = getOneHugeArray(sim_path_list)\n",
    "print(f\"The shape of xtrain is {xtest.shape}, the ratio of fall/nofall : {ytest.sum()/ytest.size}\")"
   ]
  },
  {
   "cell_type": "code",
   "execution_count": 46,
   "metadata": {},
   "outputs": [],
   "source": [
    "data_root.mkdir(exist_ok=True)\n",
    "\n",
    "np.savez(data_root/\"testsim993.npz\", x = xtest, y = ytest)"
   ]
  },
  {
   "cell_type": "code",
   "execution_count": 51,
   "metadata": {},
   "outputs": [],
   "source": [
    "trainpath = Path(f\"/data/stg60/milton_plotdata/par.npz\")\n",
    "valpath = Path(f\"/data/stg60/milton_plotdata/val.npz\")\n",
    "testpath = Path(f\"/data/stg60/milton_plotdata/test/testsim993.npz\")\n"
   ]
  },
  {
   "cell_type": "code",
   "execution_count": 48,
   "metadata": {},
   "outputs": [],
   "source": [
    "checkpoint_root = f\"/data/stg60/model_train_miltonsim/version_3\"\n",
    "\n",
    "checkpoint_path = f\"{checkpoint_root}/model.ckpt\""
   ]
  },
  {
   "cell_type": "code",
   "execution_count": 49,
   "metadata": {},
   "outputs": [
    {
     "name": "stdout",
     "output_type": "stream",
     "text": [
      "Train Loading\n",
      "Train Loaded\n",
      "Val Loading\n",
      "Val Loaded\n",
      "Test Loading\n",
      "Test Loaded\n"
     ]
    }
   ],
   "source": [
    "BATCH_SIZE = 128\n",
    "TEST_BATCH_SIZE = 28\n",
    "SHUFFLE_BUFFER_SIZE = BATCH_SIZE * 128\n",
    "limit=None\n",
    "print('Train Loading')\n",
    "with np.load(trainpath, allow_pickle=True) as data:\n",
    "    train_examples = data['x'][:limit]\n",
    "    train_labels = (data['y'][:limit]).astype(np.int64)\n",
    "\n",
    "train_dataset = tf.data.Dataset.from_tensor_slices((train_examples, train_labels))\n",
    "train_dataset = train_dataset.shuffle(SHUFFLE_BUFFER_SIZE).batch(BATCH_SIZE).prefetch(8)\n",
    "print('Train Loaded')\n",
    "\n",
    "print('Val Loading')\n",
    "with np.load(valpath, allow_pickle=True) as data:\n",
    "    val_examples = data['x']\n",
    "    val_labels = (data['y']).astype(np.int64)\n",
    "\n",
    "val_dataset = tf.data.Dataset.from_tensor_slices((val_examples, val_labels)).prefetch(8)\n",
    "val_dataset = val_dataset.batch(BATCH_SIZE)\n",
    "print('Val Loaded')\n",
    "\n",
    "\n",
    "print('Test Loading')\n",
    "with np.load(testpath, allow_pickle=True) as data:\n",
    "    test_examples = data['x']\n",
    "    test_labels = (data['y']).astype(np.int64)\n",
    "\n",
    "test_dataset = tf.data.Dataset.from_tensor_slices((test_examples, test_labels)).prefetch(8)\n",
    "test_dataset = test_dataset.batch(TEST_BATCH_SIZE)\n",
    "print('Test Loaded')"
   ]
  },
  {
   "cell_type": "code",
   "execution_count": 50,
   "metadata": {},
   "outputs": [
    {
     "data": {
      "text/plain": [
       "2271"
      ]
     },
     "execution_count": 50,
     "metadata": {},
     "output_type": "execute_result"
    }
   ],
   "source": [
    "len(test_examples)"
   ]
  },
  {
   "cell_type": "code",
   "execution_count": 70,
   "metadata": {},
   "outputs": [],
   "source": [
    "mat = loadmat('/data/stg60/milton_plotdata/test/milton_sim_0000000993.mat')\n",
    "phiv = mat['phiv'].reshape(-1)\n",
    "dxv = mat['dxv'].reshape(-1)\n",
    "        \n",
    "#phiv_sim = phiv/20\n",
    "#dxv_sim = dxv/0.335\n",
    "phiv_sim = phiv[:-128]\n",
    "dxv_sim = dxv[:-128]\n",
    "\n",
    "#phiv -> delay, respo\n",
    "delay_phiv_sim = phiv_sim[23:]\n",
    "respo_phiv_sim = phiv_sim[:-23]\n",
    "\n",
    "#dxv -> delay, respo\n",
    "delay_dxv_sim = dxv_sim[23:]\n",
    "respo_dxv_sim = dxv_sim[:-23]"
   ]
  },
  {
   "cell_type": "code",
   "execution_count": 53,
   "metadata": {},
   "outputs": [
    {
     "data": {
      "text/plain": [
       "(array([-10.,   0.,  10.,  20.,  30.,  40.,  50.]),\n",
       " [Text(0, 0, ''),\n",
       "  Text(0, 0, ''),\n",
       "  Text(0, 0, ''),\n",
       "  Text(0, 0, ''),\n",
       "  Text(0, 0, ''),\n",
       "  Text(0, 0, ''),\n",
       "  Text(0, 0, '')])"
      ]
     },
     "execution_count": 53,
     "metadata": {},
     "output_type": "execute_result"
    },
    {
     "data": {
      "image/png": "[encoded data removed]",
      "text/plain": [
       "<Figure size 1080x216 with 1 Axes>"
      ]
     },
     "metadata": {
      "needs_background": "light"
     },
     "output_type": "display_data"
    }
   ],
   "source": [
    "# plt.tick_params(axis='x', fontsize='17')\n",
    "plt.figure(figsize=(15,3))\n",
    "plt.plot(phiv)\n",
    "plt.xlabel('Time', fontsize=15)\n",
    "plt.ylabel('Angular Displacement', fontsize=15)\n",
    "plt.xticks(fontsize=15)\n",
    "plt.yticks(fontsize=15)"
   ]
  },
  {
   "cell_type": "code",
   "execution_count": 73,
   "metadata": {},
   "outputs": [
    {
     "name": "stdout",
     "output_type": "stream",
     "text": [
      "-0.7901601289817637 -0.7841795328139515 -0.7319168641643474 -0.6306416788574107 -0.4802655055435162 -0.2825172861376416 -0.0424432265212238 0.22840472238677123 0.5136514262970673 0.7979216455287351 1.070104358400524 1.3233729203212727 1.5541652662326861 1.7610561420555615 1.9438520110413937 2.1029717688786853 2.2390708022220904 2.3528358041818307 2.444880414623061 2.515686790522367 2.565557064280844 2.5946646452743556 2.6034756797307845 2.5935727670037765 2.568405538807459 2.5335228959542837 2.4962919784812483 2.465337707776119 2.4499109037717566 2.459312474240521 2.502329059666917 2.5864647878497378 2.7170076040956013 2.8963840322369876 3.12411973994534 3.39728991312313 3.7111809738251993 4.017466365664932 4.237465124342705 4.36260513818798 4.431556035353129 4.466698557550408 4.481011062351921 4.482043815704418 4.474212629968669 4.460122585239115 4.4413320048626 4.418793397206397 4.39310797160431 4.364672565738782 4.333764481926468 4.3005904891873525 4.265315144121887 4.228077175520579 4.188998979477892 4.148192137556478 4.10576063887292 4.061802776168952 4.0164122757205 3.9696789842008355 3.92168929899187 3.872526449591489 3.8278973560072593 3.793415692887578 3.768990052274949 3.75455568387264 3.7500743233971443 3.7555340911428217 3.770949460489807 3.796361296271712 3.831836963104823 3.877470503965974 3.933382889492482 3.999722338665022 4.076664711723544 4.164413976357822 4.263202748408451 4.373292908511677 4.4949762963226885 4.628575484157736 4.774444632105923 4.932970426877487 5.104573106877401 5.2897075762216526 5.488864610649386 5.702572158527661 5.9313967403976955 6.175944950772649 6.436865066168122 6.714848763628068 7.01063295430185 7.325001736933042 7.6587884764385405 8.012878013088107 8.388209008140707 8.785776432155703 9.206634202575222 9.651897977569691 10.122748113552806 10.620432794206042 11.146271339307464 11.701657702136313 12.288064164724634 12.907045240751783 13.560241796428025 14.249385400291379 14.976302913448585 15.742921332428597 16.551272897486562 17.40350047989996 18.30186326253819 19.248742728764295 20.24664897554489 21.298227367503834 22.406265549558952 23.573700836731717 24.803628000719666 26.09930747387307 27.464173992323897 28.901845701179308 30.416133745916756 32.011052375406614 33.69082958334467 35.45991831630401 37.323008278117754 39.28503836188529 41.35120974255795 43.52699966481166\n"
     ]
    }
   ],
   "source": [
    "phiv_fall=phiv[-128:]\n",
    "print(*phiv_fall)"
   ]
  },
  {
   "cell_type": "code",
   "execution_count": 74,
   "metadata": {},
   "outputs": [
    {
     "name": "stdout",
     "output_type": "stream",
     "text": [
      "-0.2992046888843692 -0.3293287410971823 -0.36219072458748386 -0.3956932975068273 -0.4283237497300046 -0.45905875206361946 -0.4844373649139145 -0.4992992787665611 -0.5024153151784536 -0.4962681054143541 -0.4839341959224355 -0.46796053104344687 -0.4501183434750149 -0.4314974097770427 -0.41269460002034897 -0.393993489496209 -0.375499701080311 -0.3572272316578934 -0.33914338276773437 -0.32118392221901493 -0.303251255698208 -0.285346957012222 -0.26792195655488515 -0.25204944878621943 -0.2391528716641882 -0.23059618733980525 -0.227417679684415 -0.23022586479000492 -0.23920621412264279 -0.2541853442144791 -0.2745815808847802 -0.29919050816158427 -0.32618828026266017 -0.3535116940252616 -0.37927721512617263 -0.4020100558099265 -0.42069884713816824 -0.37939232732307404 -0.29451915642406534 -0.24129071426786988 -0.20637153778485523 -0.1820667704053 -0.16393670832287557 -0.14942014376747426 -0.13703989082571771 -0.12594429212654035 -0.11564262197211207 -0.10585238817160486 -0.09641121120577804 -0.0872259712851763 -0.07824346286853695 -0.06943346120516349 -0.060778951873562595 -0.05227049407332848 -0.04390296947785993 -0.035673707757211265 -0.027581406535657667 -0.019625509773771893 -0.01180585066277416 -0.00412244712445784 0.0034246146641693648 0.01083524599039383 0.010778432639000001 0.01072220296291199 0.010666407902038814 0.010610899548417483 0.010555530754121552 0.010500154741184485 0.010444624712503741 0.01038879346269414 0.010332512987858892 0.010275634093243858 0.010218005997734933 0.010159475934150142 0.010099888744266816 0.010039086467510342 0.009976907922214104 0.00991318827834059 0.009847758620530977 0.009780445500324872 0.009711070476363189 0.00963944964135528 0.009565393134556337 0.009488704638462702 0.009409180858390855 0.009326610983560487 0.00924077612825305 0.009151448751564316 0.009058392054212794 0.00896135935080496 0.008860093415893253 0.008754325802093281 0.008643776128452624 0.00852815133718477 0.008407144916797837 0.008280436089558661 0.008147688961138301 0.008008551630184725 0.007862655255462245 0.00770961307808476 0.007549019396250823 0.0073804484897626605 0.007203453491478121 0.007017565202703867 0.006822290849389531 0.0066171127758256 0.006401487072382138 0.0061748421336505965 0.005936577143166472 0.005686060480695935 0.0054226280478642894 0.005145581507687637 0.004854186433340903 0.004547670361254758 0.0042252207433803686 0.003885982793193596 0.0035290572197285907 0.0031534978436338953 0.002758309088931421 0.0023424433438291683 0.0019047981835914303 0.001444213448104538 0.0009594681663910301 0.00044927731991939196 -8.771156387082652e-05 -0.0006529219968587891 -0.0012478523038513462 -0.0018740795945147181\n"
     ]
    }
   ],
   "source": [
    "dxv_fall=dxv[-128:]\n",
    "print(*dxv_fall)"
   ]
  },
  {
   "cell_type": "code",
   "execution_count": 54,
   "metadata": {},
   "outputs": [],
   "source": [
    "options = tf.data.Options()\n",
    "options.experimental_distribute.auto_shard_policy = tf.data.experimental.AutoShardPolicy.DATA\n",
    "train_data = train_dataset.with_options(options)\n",
    "val_dataset = val_dataset.with_options(options)\n",
    "test_dataset = test_dataset.with_options(options)"
   ]
  },
  {
   "cell_type": "code",
   "execution_count": 55,
   "metadata": {},
   "outputs": [
    {
     "name": "stdout",
     "output_type": "stream",
     "text": [
      "Creating a model\n"
     ]
    }
   ],
   "source": [
    "print(\"Creating a model\")\n",
    "tf.keras.backend.set_floatx('float64')"
   ]
  },
  {
   "cell_type": "code",
   "execution_count": 56,
   "metadata": {},
   "outputs": [],
   "source": [
    "strategy = tf.distribute.MirroredStrategy"
   ]
  },
  {
   "cell_type": "code",
   "execution_count": 57,
   "metadata": {},
   "outputs": [],
   "source": [
    "\n",
    "\n",
    "    model = tf.keras.Sequential([\n",
    "        tf.keras.layers.InputLayer(input_shape=(128, 4)),\n",
    "        tf.keras.layers.LayerNormalization(\n",
    "            axis=1, epsilon=1e-10, center=True, scale=True,\n",
    "            beta_initializer='zeros', gamma_initializer='ones',\n",
    "        ),\n",
    "        \n",
    "        tf.keras.layers.Bidirectional(tf.keras.layers.LSTM(256, return_sequences=True)),\n",
    "        tf.keras.layers.Bidirectional(tf.keras.layers.LSTM(256, return_sequences=False)),\n",
    "        \n",
    "        tf.keras.layers.BatchNormalization(axis=-1,\n",
    "                                           momentum=0.99,\n",
    "                                           epsilon=0.001,\n",
    "                                           ),\n",
    "        tf.keras.layers.Dense(128, activation='relu'),\n",
    "        # tf.keras.layers.Dropout(0.5),\n",
    "        tf.keras.layers.BatchNormalization(axis=-1,\n",
    "                                           momentum=0.99,\n",
    "                                           epsilon=0.001,\n",
    "                                           ),\n",
    "        tf.keras.layers.Dense(64, activation='relu'),\n",
    "        tf.keras.layers.BatchNormalization(axis=-1,\n",
    "                                           momentum=0.99,\n",
    "                                           epsilon=0.001,\n",
    "                                           ),\n",
    "        tf.keras.layers.Dense(32, activation='relu'),\n",
    "        # tf.keras.layers.Dropout(0.5),\n",
    "        tf.keras.layers.BatchNormalization(axis=-1,\n",
    "                                           momentum=0.99,\n",
    "                                           epsilon=0.001,\n",
    "                                           ),\n",
    "        tf.keras.layers.Dense(16, activation='relu'),\n",
    "        tf.keras.layers.BatchNormalization(axis=-1,\n",
    "                                           momentum=0.99,\n",
    "                                           epsilon=0.001,\n",
    "                                           ),\n",
    "        tf.keras.layers.Dense(1)\n",
    "    ])\n",
    "    model.load_weights(checkpoint_path)\n",
    "\n",
    "    regularizer = tf.keras.regularizers.l1(0.01)\n",
    "    for layer in model.layers:\n",
    "     for attr in ['kernel_regularizer']:\n",
    "        if hasattr(layer, attr):\n",
    "          setattr(layer, attr, regularizer)\n",
    "\n",
    "    model.compile(optimizer=tf.keras.optimizers.SGD(),\n",
    "                  loss=tf.keras.losses.BinaryCrossentropy(from_logits=True),\n",
    "    metrics = ['accuracy'])\n",
    "    \n",
    "\n",
    "\n",
    "\n",
    "\n",
    "\n",
    "   "
   ]
  },
  {
   "cell_type": "code",
   "execution_count": 58,
   "metadata": {},
   "outputs": [],
   "source": [
    "callback = tf.keras.callbacks.EarlyStopping(monitor='val_loss', patience=5)\n",
    "\n",
    "\n",
    "# Create a callback that saves the model's weights\n",
    "cp_callback = tf.keras.callbacks.ModelCheckpoint(filepath='/content/model.ckpt',\n",
    "                                                 save_weights_only=True,\n",
    "                                                 verbose=1,\n",
    "                                                 save_best_only=True)"
   ]
  },
  {
   "cell_type": "code",
   "execution_count": 59,
   "metadata": {},
   "outputs": [
    {
     "data": {
      "text/plain": [
       "<tensorflow.python.training.tracking.util.CheckpointLoadStatus at 0x7f7427a9a820>"
      ]
     },
     "execution_count": 59,
     "metadata": {},
     "output_type": "execute_result"
    }
   ],
   "source": [
    "model.load_weights(checkpoint_path)"
   ]
  },
  {
   "cell_type": "code",
   "execution_count": 60,
   "metadata": {},
   "outputs": [
    {
     "name": "stdout",
     "output_type": "stream",
     "text": [
      "Model Evaluation Started\n"
     ]
    },
    {
     "name": "stderr",
     "output_type": "stream",
     "text": [
      "2023-02-02 01:41:07.972393: I tensorflow/compiler/mlir/mlir_graph_optimization_pass.cc:116] None of the MLIR optimization passes are enabled (registered 2)\n",
      "2023-02-02 01:41:07.992833: I tensorflow/core/platform/profile_utils/cpu_utils.cc:112] CPU Frequency: 2200000000 Hz\n"
     ]
    },
    {
     "name": "stdout",
     "output_type": "stream",
     "text": [
      "              precision    recall  f1-score   support\n",
      "\n",
      "     No-Fall       0.96      0.91      0.93      2074\n",
      "        Fall       0.38      0.59      0.46       197\n",
      "\n",
      "    accuracy                           0.88      2271\n",
      "   macro avg       0.67      0.75      0.70      2271\n",
      "weighted avg       0.91      0.88      0.89      2271\n",
      "\n"
     ]
    }
   ],
   "source": [
    "    print(\"Model Evaluation Started\")\n",
    "    \n",
    "    y_prob = tf.sigmoid(model.predict(test_examples))\n",
    "    y_out = (y_prob > 0.84).numpy().astype(\"int32\")\n",
    "    #y_out = (y_prob > 0.5).numpy().astype(\"int32\")\n",
    "    target_names = ['No-Fall', 'Fall']\n",
    "    report = classification_report(test_labels, y_out, target_names=target_names, zero_division = 0)\n",
    "    \n",
    "    # with open(f\"{rep_root}/test_report_version_{version_catalog}.txt\",\"w\") as f:\n",
    "    #     f.write(report)\n",
    "    print(report)"
   ]
  },
  {
   "cell_type": "code",
   "execution_count": 62,
   "metadata": {},
   "outputs": [
    {
     "data": {
      "text/plain": [
       "2271"
      ]
     },
     "execution_count": 62,
     "metadata": {},
     "output_type": "execute_result"
    }
   ],
   "source": [
    "len(test_labels)"
   ]
  },
  {
   "cell_type": "code",
   "execution_count": 63,
   "metadata": {},
   "outputs": [],
   "source": [
    "not_matched=[]\n",
    "matched=[]\n",
    "for i in range(0,len(test_labels)):\n",
    "    if test_labels[i]!= y_out[i]:\n",
    "        not_matched.append(i)\n",
    "    else:\n",
    "        matched.append(i)\n"
   ]
  },
  {
   "cell_type": "code",
   "execution_count": 64,
   "metadata": {},
   "outputs": [
    {
     "data": {
      "text/plain": [
       "271"
      ]
     },
     "execution_count": 64,
     "metadata": {},
     "output_type": "execute_result"
    }
   ],
   "source": [
    "len(not_matched)"
   ]
  },
  {
   "cell_type": "code",
   "execution_count": 65,
   "metadata": {},
   "outputs": [
    {
     "data": {
      "text/plain": [
       "2000"
      ]
     },
     "execution_count": 65,
     "metadata": {},
     "output_type": "execute_result"
    }
   ],
   "source": [
    "len(matched)"
   ]
  },
  {
   "cell_type": "code",
   "execution_count": null,
   "metadata": {},
   "outputs": [],
   "source": []
  }
 ],
 "metadata": {
  "kernelspec": {
   "display_name": "tf_gpu_27",
   "language": "python",
   "name": "python3"
  },
  "language_info": {
   "codemirror_mode": {
    "name": "ipython",
    "version": 3
   },
   "file_extension": ".py",
   "mimetype": "text/x-python",
   "name": "python",
   "nbconvert_exporter": "python",
   "pygments_lexer": "ipython3",
   "version": "3.9.7"
  },
  "orig_nbformat": 4,
  "vscode": {
   "interpreter": {
    "hash": "1ea3dc793623f014c9bb8ce0e3bd7d19657e91ab5be10e398374ee9e7e272561"
   }
  }
 },
 "nbformat": 4,
 "nbformat_minor": 2
}
